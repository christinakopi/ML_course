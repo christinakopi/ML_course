{
 "cells": [
  {
   "cell_type": "code",
   "execution_count": 1,
   "metadata": {},
   "outputs": [],
   "source": [
    "# Useful starting lines\n",
    "%matplotlib inline\n",
    "\n",
    "import random\n",
    "from datetime import datetime\n",
    "\n",
    "import numpy as np\n",
    "import matplotlib.pyplot as plt\n",
    "from test_utils import test\n",
    "import time\n",
    "\n",
    "\n",
    "%load_ext autoreload\n",
    "%autoreload 2"
   ]
  },
  {
   "cell_type": "markdown",
   "metadata": {},
   "source": [
    "# Support Vector Machines\n",
    "## Classification Using SVM\n",
    "Load dataset. We will use a toy dataset from sklearn."
   ]
  },
  {
   "cell_type": "code",
   "execution_count": 2,
   "metadata": {},
   "outputs": [
    {
     "name": "stdout",
     "output_type": "stream",
     "text": [
      "(N, D) = (569, 31)\n"
     ]
    }
   ],
   "source": [
    "from sklearn import datasets\n",
    "\n",
    "# Load dataset\n",
    "sklearn_dataset = datasets.load_breast_cancer()\n",
    "Xx = sklearn_dataset.data\n",
    "y = sklearn_dataset.target * 2 - 1  # labels must be in {-1, 1} for the hinge loss\n",
    "X = np.ones((Xx.shape[0], Xx.shape[1] + 1))\n",
    "X[:, :-1] = Xx\n",
    "print(\"(N, D) =\", X.shape)"
   ]
  },
  {
   "cell_type": "markdown",
   "metadata": {},
   "source": [
    "## Prepare cost and prediction functions"
   ]
  },
  {
   "cell_type": "code",
   "execution_count": 28,
   "metadata": {},
   "outputs": [],
   "source": [
    "def calculate_primal_objective(y, X, w, lambda_):\n",
    "    \"\"\"compute the full cost (the primal objective, equation (1) in the exercise pdf),\n",
    "        that is loss plus regularizer.\n",
    "\n",
    "    Args:\n",
    "        X: the full dataset matrix, shape = (num_examples, num_features)\n",
    "        y: the corresponding +1 or -1 labels, shape = (num_examples)\n",
    "        w: shape = (num_features)\n",
    "\n",
    "    Returns:\n",
    "        scalar, non-negative\n",
    "\n",
    "    >>> y_test = np.array([1, -1])\n",
    "    >>> x_test = np.array([[1, 2, 3], [4, 5, 6]])\n",
    "    >>> w_test = np.array([0, 1, 5])\n",
    "    >>> calculate_primal_objective(y_test, x_test, w_test, 1)\n",
    "    31.0\n",
    "    \"\"\"\n",
    "    ####################################\n",
    "    margin = 1 - y * (X @ w)\n",
    "    hinge_loss = np.maximum(0, margin)\n",
    "    reg_term = (lambda_ / 2) * np.dot(w, w)    \n",
    "    pr_obj = (hinge_loss + reg_term).mean()    \n",
    "\n",
    "    return pr_obj   \n",
    "    ####################################"
   ]
  },
  {
   "cell_type": "code",
   "execution_count": 29,
   "metadata": {},
   "outputs": [
    {
     "name": "stdout",
     "output_type": "stream",
     "text": [
      "✅ Your `calculate_primal_objective` passed 4 tests.\n"
     ]
    }
   ],
   "source": [
    "test(calculate_primal_objective)"
   ]
  },
  {
   "cell_type": "code",
   "execution_count": 30,
   "metadata": {},
   "outputs": [],
   "source": [
    "def calculate_accuracy(y, X, w):\n",
    "    \"\"\"compute the accuracy on the given dataset (X, y) using the model w.\n",
    "\n",
    "    Args:\n",
    "        X: the full dataset matrix, shape = (num_examples, num_features)\n",
    "        y: the corresponding +1 or -1 labels, shape = (num_examples)\n",
    "        w: shape = (num_features)\n",
    "\n",
    "    Returns:\n",
    "        scalar, between 0 and 1\n",
    "\n",
    "    >>> y_test = np.array([1, -1])\n",
    "    >>> x_test = np.array([[1, 2, 3], [4, 5, 6]])\n",
    "    >>> w_test = np.array([0, 1, 5])\n",
    "    >>> calculate_accuracy(y_test, x_test, w_test)\n",
    "    0.5\n",
    "    \"\"\"\n",
    "    ####################################\n",
    "    y_pred = X @ w\n",
    "    y_pred_labels = np.where(y_pred > 0, 1, -1)\n",
    "    accuracy = np.mean(y_pred_labels == y)\n",
    "\n",
    "    return accuracy\n",
    "    ####################################"
   ]
  },
  {
   "cell_type": "code",
   "execution_count": 31,
   "metadata": {},
   "outputs": [
    {
     "name": "stdout",
     "output_type": "stream",
     "text": [
      "✅ Your `calculate_accuracy` passed 4 tests.\n"
     ]
    }
   ],
   "source": [
    "test(calculate_accuracy)"
   ]
  },
  {
   "cell_type": "markdown",
   "metadata": {},
   "source": [
    "## Stochastic Gradient Descent for SVM"
   ]
  },
  {
   "cell_type": "markdown",
   "metadata": {},
   "source": [
    "Compute the (stochastic) subgradient for the n-th summand of the SVM optimization objective"
   ]
  },
  {
   "cell_type": "code",
   "execution_count": 36,
   "metadata": {},
   "outputs": [],
   "source": [
    "def calculate_stochastic_gradient(y, X, w, lambda_, n, num_examples):\n",
    "    \"\"\"compute the stochastic gradient of loss plus regularizer.\n",
    "\n",
    "    Args:\n",
    "        X: the dataset matrix, shape = (num_examples, num_features)\n",
    "        y: the corresponding +1 or -1 labels, shape = (num_examples)\n",
    "        w: shape = (num_features)\n",
    "        lambda_: positive scalar number\n",
    "        n: the index of the (one) datapoint we have sampled\n",
    "        num_examples: N\n",
    "\n",
    "    Returns:\n",
    "        numpy array, shape = (num_features)\n",
    "\n",
    "    >>> y_test = np.array([1, -1])\n",
    "    >>> x_test = np.array([[1, 2, 3], [4, 5, 6]])\n",
    "    >>> w_test = np.array([0, 1, 5])\n",
    "    >>> calculate_stochastic_gradient(y_test, x_test, w_test, 1, 1, 2)\n",
    "    array([ 4,  6, 11])\n",
    "    \"\"\"\n",
    "    ####################################\n",
    "    x_n = X[n]\n",
    "    y_n = y[n]\n",
    "\n",
    "    margin = 1 - y_n * (x_n @ w)\n",
    "\n",
    "    if margin > 0:\n",
    "        hinge_loss_gradient = -y_n * x_n\n",
    "    else:\n",
    "        hinge_loss_gradient = np.zeros_like(w)\n",
    "\n",
    "    regularization_gradient = lambda_ * w\n",
    "    stochastic_gradient = hinge_loss_gradient + regularization_gradient\n",
    "\n",
    "    return stochastic_gradient\n",
    "    ####################################"
   ]
  },
  {
   "cell_type": "code",
   "execution_count": 37,
   "metadata": {},
   "outputs": [
    {
     "name": "stdout",
     "output_type": "stream",
     "text": [
      "✅ Your `calculate_stochastic_gradient` passed 4 tests.\n"
     ]
    }
   ],
   "source": [
    "test(calculate_stochastic_gradient)"
   ]
  },
  {
   "cell_type": "markdown",
   "metadata": {},
   "source": [
    "Implement stochastic gradient descent: Pick a data point uniformly at random and update w based on the gradient for the n-th summand of the objective"
   ]
  },
  {
   "cell_type": "code",
   "execution_count": 38,
   "metadata": {},
   "outputs": [
    {
     "name": "stdout",
     "output_type": "stream",
     "text": [
      "Final training accuracy = 90.51 %\n",
      "Training time: 3.0 seconds \n"
     ]
    },
    {
     "data": {
      "image/png": "iVBORw0KGgoAAAANSUhEUgAAAjoAAAHJCAYAAACMppPqAAAAOXRFWHRTb2Z0d2FyZQBNYXRwbG90bGliIHZlcnNpb24zLjguNCwgaHR0cHM6Ly9tYXRwbG90bGliLm9yZy8fJSN1AAAACXBIWXMAAA9hAAAPYQGoP6dpAABw50lEQVR4nO3dd3hUZdoG8PtMTU9IQgIhhV5CFQhKUzoiC/YuoOi6urCouKvr+rEorgr2QnRXd1d0dZG1oNgQRESaGENRpEMgQAiQQnqmnu+PmXOmJzPJlGTm/l1XLpgzZ848c4Dk4Xmf930FURRFEBEREYUhRagDICIiIgoUJjpEREQUtpjoEBERUdhiokNERERhi4kOERERhS0mOkRERBS2mOgQERFR2GKiQ0RERGGLiQ4RERGFLSY6RH62Y8cOXH311cjOzoZWq0V6ejpGjhyJBx980OVcs9mMd999F1OnTkVaWhrUajWSkpJwySWX4LnnnkNZWZnD+V27doUgCBAEAQqFAomJiejXrx9mz56NdevWBesjBtWKFSsgCAKOHz8e9Pc+fvw4BEHAihUr/Hq95557rtlzA/259+3bh8cee8zt9W+//XZ07do1IO9LFGxMdIj86IsvvsCoUaNQXV2NZ555BuvWrcPLL7+M0aNHY9WqVQ7nNjQ04PLLL8fs2bORnJyMV155BRs2bMC7776LCRMm4Nlnn8XVV1/t8h6jR4/G9u3bsW3bNnz00UeYP38+ioqKMHXqVFx33XUwGAzB+rhBMX36dGzfvh2dO3cOdShBFejPvW/fPjz++ONuE51FixZh9erVAXlfoqATichvLr30UrFHjx6iwWBwec5kMjk8vvvuu0UA4n//+1+316qrqxPfeOMNh2M5OTni9OnT3Z6/ePFiEYD40EMPtTD6tqW+vl40m80hjaGoqEgEIL711lt+vd6zzz7rl+u1xgcffCACEDdu3BjqUIgCihUdIj8qLy9HamoqVCqVy3MKhe2f25kzZ/Dvf/8b06dPx8033+z2WjExMfjtb3/r9Xs/9thj6N+/P5YvX47GxsYmzzWbzXjmmWfQt29faLVapKWlYfbs2Th16pTDeePGjcOAAQNQUFCAsWPHIiYmBt27d8fSpUthNpubjUkQBMyfPx//+Mc/0Lt3b2i1WuTm5uL99993OE8aplm3bh3mzp2Ljh07IiYmBjqdzu0QjhTX9u3bMWrUKERHR6Nr16546623AFgqa0OHDkVMTAwGDhyItWvXOrzfkSNHcMcdd6BXr16IiYlBly5dMGPGDPzyyy/NfiZPiouLcdtttyEtLQ1arRb9+vXD888/7/Y+mc1mPPnkk8jOzkZUVBSGDx+ODRs2uL0nzhWXb775BhMnTkRCQgJiYmIwevRol9cCwIEDB3DzzTcjPT0dWq0W2dnZmD17tnxPr7/+egDA+PHj5eFQaYjOeejqoosuwtixY13ew2QyoUuXLrjmmmvkY3q9Hn/729/kv1sdO3bEHXfcgfPnz3t7K4n8iokOkR+NHDkSO3bswIIFC7Bjxw6Pw0gbN26E0WjEzJkz/fr+M2bMQH19PX766acmz7v33nvx8MMPY/LkyVizZg2eeOIJrF27FqNGjXLpCyotLcWtt96K2267DWvWrMG0adPwyCOP4N133/UqpjVr1uCVV17BkiVL8OGHHyInJwc333wzPvzwQ5dz586dC7Vajf/85z/48MMPoVarPV63tLQUd9xxB+666y58+umnGDhwIObOnYslS5bgkUcewUMPPYSPPvoIcXFxuOqqq1BSUiK/tqSkBCkpKVi6dCnWrl2L/Px8qFQqXHzxxTh48KBXn8ve+fPnMWrUKKxbtw5PPPEE1qxZg0mTJuGPf/wj5s+f73L+8uXLsXbtWrz00kt49913oVAoMG3aNGzfvr3J93n33XcxZcoUJCQk4O2338b//vc/JCcnY+rUqQ7Jzp49e5CXl4cffvgBS5YswVdffYWnn34aOp0Oer0e06dPx1NPPQUAyM/Px/bt27F9+3ZMnz7d7fvecccd2LJlCw4fPuxwfN26dSgpKcEdd9wBwJLAXXnllVi6dCluueUWfPHFF1i6dCnWr1+PcePGoaGhwaf7SuQXoS4pEYWTsrIyccyYMSIAEYCoVqvFUaNGiU8//bRYU1Mjn7d06VIRgLh27VqXaxgMBocve00NXYmiKL7++usiAHHVqlUez9m/f78IQPz973/vcHzHjh0iAPEvf/mLfOyyyy4TAYg7duxwODc3N1ecOnWqx/eQABCjo6PF0tJS+ZjRaBT79u0r9uzZUz721ltviQDE2bNnu1xDeq6oqMglrp9++kk+Vl5eLiqVSjE6Olo8ffq0fHz37t0iAPGVV17xGKfRaBT1er3Yq1cv8YEHHpCPezt09ec//9ntfbr33ntFQRDEgwcPOlwvIyNDbGhokM+rrq4Wk5OTxUmTJnn83HV1dWJycrI4Y8YMh/cwmUzi4MGDxREjRsjHJkyYICYlJYnnzp3zGHNTQ1dz5swRc3Jy5MdlZWWiRqNx+LshiqJ4ww03iOnp6fLf05UrV4oAxI8++sjhvIKCAhGA+Nprr3mMhyhQWNEh8qOUlBRs3rwZBQUFWLp0Ka688kocOnQIjzzyCAYOHOhSLXG2e/duqNVqh6/mXmNPFMVmz9m4cSMAy/CEvREjRqBfv34uwyCdOnXCiBEjHI4NGjQIJ06c8CqmiRMnIj09XX6sVCpx44034siRIy5DZddee61X1wSAzp07Y9iwYfLj5ORkpKWlYciQIcjIyJCP9+vXDwAc4jUajXjqqaeQm5sLjUYDlUoFjUaDw4cPY//+/V7HIPn222+Rm5vrcp9uv/12iKKIb7/91uH4Nddcg6ioKPlxfHw8ZsyYge+//x4mk8nte2zbtg0VFRWYM2cOjEaj/GU2m3H55ZejoKAAdXV1qK+vx6ZNm3DDDTegY8eOPn8Wd1JSUjBjxgy8/fbb8lBcZWUlPv30U8yePVseqv3888+RlJSEGTNmOMQ4ZMgQdOrUCd99951f4iHyBRMdogAYPnw4Hn74YXzwwQcoKSnBAw88gOPHj+OZZ54BAGRnZwOAS7LQp08fFBQUoKCgwKf+HIl0Pfsf9M7Ky8sBwO1snoyMDPl5SUpKist5Wq3W62GITp06eTzm/F6+zDBKTk52OabRaFyOazQaAHDoW1q4cCEWLVqEq666Cp999hl27NiBgoICDB48uEXDK+Xl5R7vp/S8PU/3RK/Xo7a21u17nD17FgBw3XXXuSTDy5YtgyiKqKioQGVlJUwmEzIzM33+HE2ZO3cuTp8+jfXr1wMAVq5cCZ1O55Awnz17FhcuXIBGo3GJsbS01KeknchfXDsmiciv1Go1Fi9ejBdffBF79+4FYGmmValUWLNmDe6++2753OjoaAwfPhyA5X/HvhBFEZ999hliY2Pla7gjJS5nzpxx+WFYUlKC1NRUn963OaWlpR6POSdRgiD49b09effddzF79my5T0VSVlaGpKQkn6+XkpKCM2fOuByX+oKc76mne6LRaBAXF+f2PaRrvPrqq7jkkkvcnpOeng6TyQSlUulSLWutqVOnIiMjA2+99RamTp2Kt956CxdffDFyc3MdYkxJSXFp/pbEx8f7NSYib7CiQ+RH7n7YAZCHQ6T/4Xfu3Blz587FF1984TIDqaUef/xx7Nu3D/fdd5/DsIizCRMmAIBLM3FBQQH279+PiRMn+iUeyYYNG+RqBGCZqbNq1Sr06NHD71UHbwmCAK1W63Dsiy++wOnTp1t0vYkTJ2Lfvn3YuXOnw/F33nkHgiBg/PjxDsc//vhjhwpTTU0NPvvsM4wdOxZKpdLte4wePRpJSUnYt28fhg8f7vZLo9EgOjoal112GT744IMmKyjS5/e2gqVUKjFr1ix88skn2Lx5M3766SfMnTvX4Zzf/OY3KC8vh8lkchtfnz59vHovIn9iRYfIj6ZOnYrMzEzMmDEDffv2hdlsxu7du/H8888jLi4O9913n3zuSy+9hKKiItx6661Ys2YNrrzySmRkZKC+vh4HDhzA+++/j6ioKJeZRxcuXMAPP/wAAKirq8PBgwfx/vvvY/Pmzbjhhhvw+OOPNxljnz59cPfdd+PVV1+VZ/scP34cixYtQlZWFh544AG/3pPU1FRMmDABixYtQmxsLF577TX584XKb37zG6xYsQJ9+/bFoEGDUFhYiGeffbbFidcDDzyAd955B9OnT8eSJUuQk5ODL774Aq+99hruvfde9O7d2+F8pVKJyZMnY+HChTCbzVi2bBmqq6ub/LOLi4vDq6++ijlz5qCiogLXXXcd0tLScP78eezZswfnz5/H66+/DgB44YUXMGbMGFx88cX485//jJ49e+Ls2bNYs2YN/vGPfyA+Ph4DBgwAALzxxhuIj49HVFQUunXr5naoUjJ37lwsW7YMt9xyC6Kjo3HjjTc6PH/TTTfhvffewxVXXIH77rsPI0aMgFqtxqlTp7Bx40ZceeWVbhfBJAqo0PZCE4WXVatWibfccovYq1cvMS4uTlSr1WJ2drY4a9Yscd++fS7nm0wm8Z133hEnT54spqamiiqVSkxMTBRHjBghLlq0SDx16pTD+Tk5OfKMLkEQxLi4OLFPnz7irFmzxK+//trrOE0mk7hs2TKxd+/eolqtFlNTU8XbbrtNPHnypMN5l112mdi/f3+X1zvPyvEEgDhv3jzxtddeE3v06CGq1Wqxb9++4nvvvedwnjTDqKCgwOUanmZduYvL06w0KQ5JZWWleOedd4ppaWliTEyMOGbMGHHz5s3iZZddJl522WXyeb4sGHjixAnxlltuEVNSUkS1Wi326dNHfPbZZx0WipSut2zZMvHxxx8XMzMzRY1GI1500UUuf37S5z5+/LjD8U2bNonTp08Xk5OTRbVaLXbp0kWcPn26+MEHHzict2/fPvH6668XU1JSRI1GI2ZnZ4u333672NjYKJ/z0ksvid26dROVSqXD52zqz3fUqFEiAPHWW291+7zBYBCfe+45cfDgwWJUVJQYFxcn9u3bV/zd734nHj58uNn7SORvgih6MU2DiKgFBEHAvHnzsHz58lCH0u68/PLLuP/++1FTU+Oxb4eImsehKyKiNqSqqgrbt2/HihUrMGDAACY5RK3EZmQiojZk165duPrqq6HRaPD222+HOhyido9DV0RERBS2WNEhIiKisMVEh4iIiMIWEx0iIiIKWxE/68psNqOkpATx8fFBW36eiIiIWkcURdTU1CAjIwMKhee6TcQnOiUlJcjKygp1GERERNQCJ0+ebHJV84hPdKRN5k6ePImEhIQQR0NERETeqK6uRlZWVrObxUZ8oiMNVyUkJDDRISIiameaazthMzIRERGFLSY6REREFLaY6BAREVHYYqJDREREYYuJDhEREYUtJjpEREQUtpjoEBERUdhiokNERERhi4kOERERha2ITXTy8/ORm5uLvLy8UIdCREREASKIoiiGOohQqq6uRmJiIqqqqrgFBBERUTvh7c/viK3oEBERUfiL+E09A2X+f3eiutEIAYAgwPqrID8GBPm4QrD+XgAEWA46ny8/tp5jO2Z5HKtVYd74HkiJ04bqIxMREbU5THQC5Idj5Sir1Qf1Pc/VNGL5LUOD+p5ERERtGROdAHl85gA0GkwQAYiiCBEARECECFGE9Thglp8T5WOi3e/N1hYq0c1rpceNBhOWbzyCz38+g9kjKzCiW3JoPjQREVEbw0QnQKYP6hzU9yur1WPlj8V4/LNfsWb+GCgVQlDfn4iIqC1iM3KY+OOU3oiPUuHXkmp8WHgy1OEQERG1CUx0wkRKnBb3TewFAHj264OobjSEOCIiIqLQY6ITRmaP7IruqbEoq9Vj+bdHQh0OERFRyDHRCSMalQKLfpMLAHhraxGKyupCHBEREVFoMdEJM+P7pmFcn44wmEQ8+cW+UIdDREQUUkx0wtD/Tc+FSiHgm/3nsOnQ+VCHQ0REFDJMdMJQz7Q4zB7ZFQDwxOf7YDCZQxsQERFRiDDRCVP3TeyF5FgNjpyrxbs/nAh1OERERCHBRCdMJcao8eCU3gCAF9cfQkVdcLejICIiaguY6ISxm/Ky0bdTPKobjXhx/aFQh0NERBR0THTCmFIhYPGM/gCA93acwIHS6hBHREREFFxMdMLcyB4pmDagE8wisOSzfRCtm4QSERFFAiY6EeAvV/SDRqXAtqPlWLfvbKjDISIiCpqITXTy8/ORm5uLvLy8UIcScFnJMbh7bHcAwJNf7EejwRTiiIiIiIJDECN8LKO6uhqJiYmoqqpCQkJCqMMJmDqdEROe/w5nq3V46PI++P24nqEOiYiIqMW8/fkdsRWdSBOrVeHhy/sCAJZ/ewRnqxtDHBEREVHgMdGJIFcN6YIhWUmo15vwzNqDoQ6HiIgo4JjoRBCFQsDiGZbdzT/aeQp7Tl4IbUBEREQBxkQnwlyU3QHXDO0CAHjss1853ZyIiMIaE50I9PDlfRGjUWJX8QV8ursk1OEQEREFDBOdCJSeEIV54y2zrp7+aj/qdMYQR0RERBQYTHQi1J1juiGzQzTOVuvw901HQx0OERFRQDDRiVBRaiX+b3o/AMAb3x/DyYr6EEdERETkf0x0ItjU/p0wsnsKdEYzln51INThEBER+R0TnQgmCAL+OiMXCgH44pcz2HGsPNQhERER+RUTnQjXr3MCbhqRDQB45uuDnG5ORERhhYkO4b6JvaBVKVB4ohLfHTwf6nCIiIj8hokOIT0hCnNGdQUAPLfuIMxmVnWIiCg8MNEhAMA9l/VAnFaFX0uq8dXe0lCHQ0RE5BdMdAgAkByrwZ1jugEAXlh/ECZWdYiIKAww0SHZXWO7ISlGjaPn67B61+lQh0NERNRqTHRIFh+lxj2X9QAAvPTNIeiN5hBHRERE1DpMdMjBnJFd0TFei1OVDVhVUBzqcIiIiFqFiQ45iNYo8YcJlg0/X/32CBr0phBHRERE1HJMdMjFTXnZ6JIUjXM1Oryz/XiowyEiImoxJjrkQqNS4P5JvQAAr286ippGQ4gjIiIiahkmOuTW1Rd1QfeOsbhQb8A/NxeFOhwiIqIWYaJDbqmUCiyc3BsA8K8tRais04c4IiIiIt8x0SGPrhjQGbmdE1CrM+Lvm46GOhwiIiKfMdEhjxQKAX+caqnqrNh2HGerG0McERERkW+Y6FCTxvdJw9DsJOiMZiz/9kiowyEiIvIJEx1qkiAI+NPUvgCA9wuKcbKiPsQREREReS9iE538/Hzk5uYiLy8v1KG0eSN7pGBMz1QYTCJe+uZwqMMhIiLymiCKYkRvU11dXY3ExERUVVUhISEh1OG0WbtPXsBV+VuhEIB1D1yKnmnxoQ6JiIgimLc/vyO2okO+GZKVhMm56TCLwIvrWdUhIqL2gYkOee3BKb0hCMAXv5zB3tNVoQ6HiIioWUx0yGt9OyVg5uAMAMDz6w6GOBoiIqLmMdEhnzwwqTeUCgEbD57HT8crQh0OERFRk5jokE+6psbi+mGZAIBnvz6ICO9lJyKiNo6JDvlswcRe0CgV2FFUgS1HykIdDhERkUdMdMhnGUnRuPWSbADAc6zqEBFRG8ZEh1rk9+N6IlqtxJ5TVVi372yowyEiInKLiQ61SMd4LeaO6QoAeGHdIZjMrOoQEVHbw0SHWuzusT0QH6XCwbM1+PznklCHQ0RE5IKJDrVYYowav7u0OwDghfWHYDCZQxwRERGRIyY61Cp3jO6GlFgNTpTX48PCU6EOh4iIyAETHWqVWK0Kvx/fEwDwyobDaDSYQhwRERGRDRMdarVbL85G58QonKlqxHs7ikMdDhERkYyJDrValFqJBRN7AQBe23gEdTpjiCMiIiKyYKJDfnHdsEzkpMSgvE6PFduOhzocIiIiAEx0yE/USgUWTu4NAPj7pqOoqjeEOCIiIiImOuRHMwZloE96PGoajXhj89FQh0NERARVqAOg8KFQCFg4pTd+959C/HvLcfToGAe1UgGFIEAhAIIACIIAjVKBEd2SEavlXz8iIgos/qQhv5qSm47BmYnYc6oKC/+3x+N5VwzshNduHRbEyIiIKBIx0SG/EgQBT10zEM+vO4RGgwlmUYRZBCACZlGESRSxq/gC1u4txekLDeiSFB3qkImIKIwx0SG/65+RiH/fnufx+Zve2I4fjlVg1Y/FWDilTxAjIyKiSMNmZAq62y7JAQC8X3CS+2MREVFAMdGhoJuS2wmpcVqcq9Fh/b6zoQ6HiIjCGBMdCjqNSoEb8zIBAO/+cCLE0RARUThjokMhcfOIbAgCsO1oOY6erw11OEREFKaY6FBIZHaIwYQ+aQCA/3IjUCIiChAmOhQyt16SDQD4sPAUGg2mEEdDREThiIkOhcxlvdPQJSkaVQ0GfP7zmVCHQ0REYYiJDoWMUiHglostVR02JRMRUSAw0aGQumF4FtRKAbtPXsDe01WhDoeIiMIMEx0KqY7xWkzt3wkA8N4OVnWIiMi/mOhQyEkrJX+6uwTVjYYQR0NEROGEe11RyF3cLRk90+Jw5Fwt/vrJXvTtnACFACgEAYIg4KLsJAzN7hDqMImIqB1iokMhJwgCbr04G49/tg+f7C4Bdpc4PB+lVqDg0UmIj1KHKEIiImqvmOhQm3DLxdk4X6PD+RodzCIgiiJEAJsOnUdFnR47jlVgUm56qMMkIqJ2hokOtQlalRIPXd7X5fijq3/BezuKseVIGRMdIiLyGZuRqU0b0zMVALD1SFmIIyEiovaIiQ61aSN7pEAQgMPnanG2ujHU4RARUTvDRIfatKQYDQZ2SQQAbDnMqg4REfmGiQ61eaM5fEVERC3ERIfaPKlPZ8uRMoiiGOJoiIioPQmLROfqq69Ghw4dcN1114U6FAqAYTkdoFUpcK5GhyPnakMdDhERtSNhkegsWLAA77zzTqjDoACJUiuR1zUZgKWqQ0RE5K2wSHTGjx+P+Pj4UIdBATSmF/t0iIjIdyFPdL7//nvMmDEDGRkZEAQBn3zyics5r732Grp164aoqCgMGzYMmzdvDn6gFFJSn84PxypgMJlDHA0REbUXIU906urqMHjwYCxfvtzt86tWrcL999+PRx99FLt27cLYsWMxbdo0FBcXt+j9dDodqqurHb6o7cvtnICkGDVqdUb8fOpCqMMhIqJ2IuSJzrRp0/C3v/0N11xzjdvnX3jhBdx5552466670K9fP7z00kvIysrC66+/3qL3e/rpp5GYmCh/ZWVltSZ8ChKFQsDoHtbZV4fLQxwNERG1FyFPdJqi1+tRWFiIKVOmOByfMmUKtm3b1qJrPvLII6iqqpK/Tp486Y9QKQi4ng4REfmqTW/qWVZWBpPJhPR0x80c09PTUVpaKj+eOnUqdu7cibq6OmRmZmL16tXIy8tze02tVgutVhvQuCkwpD6dncWVqNMZEatt0399iYioDWgXPykEQXB4LIqiw7Gvv/462CFRCGSnxCArORonKxrwY1EFxvdNC3VIRETUxrXpRCc1NRVKpdKhegMA586dc6nyUGQY0zMVK388iTtWFEAhAApBgFIh4Ldju+OPU/uEOjwiImpj2nSPjkajwbBhw7B+/XqH4+vXr8eoUaNCFBWF0lVDukCttFTzzCJgNIvQGc14e/txmMzcHoKIiByFvKJTW1uLI0eOyI+Lioqwe/duJCcnIzs7GwsXLsSsWbMwfPhwjBw5Em+88QaKi4txzz33hDBqCpWLu6dgz+IpqNebYDaLMJpFTH5hE2oajThYWoPcjIRQh0hERG1IyBOdn376CePHj5cfL1y4EAAwZ84crFixAjfeeCPKy8uxZMkSnDlzBgMGDMCXX36JnJycUIVMIRajUSFGY/urOzSnAzYfLkPB8QomOkRE5EAQI3Q76Pz8fOTn58NkMuHQoUOoqqpCQgJ/SLZHr244jOfXH8L0QZ2Rf8vQUIdDRERBUF1djcTExGZ/frfpHp1AmjdvHvbt24eCgoJQh0KtlNfNsuHnj0UViNC8nYiIPIjYRIfCx5CsJKiVAs7X6HCivD7U4RARURvCRIfavSi1EoMykwAAPx6vCG0wRETUpjDRobAwwjp8VVDERIeIiGyY6FBYGNHVmuiwokNERHaY6FBYGJrTAYIAHC+vx7nqxlCHQ0REbQQTHQoLidFq9O1kmV7IPh0iIpJEbKKTn5+P3Nxcj7ucU/szomsHAOzTISIim4hNdLiOTviR19M5XhniSIiIqK2I2ESHwo/UkHygtBpVDYYQR0NERG0BEx0KG2kJUchJiYEoAv8rOIntR8ux41g5kx4iogjW4k099Xo9ioqK0KNHD6hUId8blAgAkNc1GSfK6/Hkl/vlY9nJMdj0p3EQBCGEkRERUSj4XNGpr6/HnXfeiZiYGPTv3x/FxcUAgAULFmDp0qV+D5DIF7eP6oqh2Unokx6PnmlxAIDiinrU6U0hjoyIiELB50TnkUcewZ49e/Ddd98hKipKPj5p0iSsWrXKr8ER+WpAl0R8/PvR+PqBS/HNwssQpbb8Fa+o1Yc4MiIiCgWfE51PPvkEy5cvx5gxYxyGAnJzc3H06FG/BkfUWimxWgBAeZ0uxJEQEVEo+JzonD9/HmlpaS7H6+rq2ANBbU5KnAYAUFHHig4RUSTyOdHJy8vDF198IT+Wkps333wTI0eO9F9kRH6QHGtJdMqZ6BARRSSfp0s9/fTTuPzyy7Fv3z4YjUa8/PLL+PXXX7F9+3Zs2rQpEDEGRH5+PvLz82EysUk1nMmJDnt0iIgiks8VnVGjRmHr1q2or69Hjx49sG7dOqSnp2P79u0YNmxYIGIMCK6MHBlSYqWhK/boEBFFohYtgDNw4EC8/fbb/o6FyO9S4qRmZFZ0iIgikc8VnfHjx+Nf//oXqqqqAhEPkV8lx7IZmYgokvmc6AwcOBD/93//h06dOuHaa6/FJ598Ar2eP0SobUphjw4RUUTzOdF55ZVXcPr0aXz66aeIj4/HnDlz0KlTJ9x9993tqhmZIgMrOkREka1Fm3oqFApMmTIFK1aswNmzZ/GPf/wDP/74IyZMmODv+IhahQsGEhFFtlbtxllaWor3338f7777Ln7++Wfk5eX5Ky4iv5AWDGw0mFGvNyJGww1oiYgiic8Vnerqarz11luYPHkysrKy8Prrr2PGjBk4dOgQduzYEYgYiVosRqOEVmX5a84+HSKiyOPzf2/T09PRoUMH3HDDDXjqqadYxaE2TRAEpMRqUFLViPI6PbKSY0IdEhERBZHPic6nn36KSZMmQaFoUXsPUdAlx1kSHS4aSEQUeXzOVqZMmRIWSU5+fj5yc3NZkYoAckMyh66IiCKOVxWdoUOHYsOGDejQoQMuuuiiJncp37lzp9+CC6R58+Zh3rx5qK6uRmJiYqjDoQBK4RRzIqKI5VWic+WVV0Kr1cq/byrRIWpruIM5EVHk8irRWbx4sfz7xx57LFCxEAVEchxXRyYiilQ+N9t0794d5eXlLscvXLiA7t27+yUoIn9KtfbosBmZiCjy+JzoHD9+HCaTyeW4TqfDqVOn/BIUkT9xGwgiosjl9fTyNWvWyL//+uuvHRp4TSYTNmzYgG7duvk3OiI/kIauyjh0RUQUcbxOdK666ioAlgXY5syZ4/CcWq1G165d8fzzz/s1OCJ/4KwrIqLI5XWiYzabAQDdunVDQUEBUlNTAxYUkT9JQ1cNBhMa9CZEa5QhjoiIiILF55WRi4qKAhEHUcDEaVXQqBTQG80or9MhU8NtIIiIIoXPzcgLFizAK6+84nJ8+fLluP/++/0RE5FfSftdARy+IiKKND4nOh999BFGjx7tcnzUqFH48MMP/RIUkb/JiwayIZmIKKL4nOiUl5e73TIhISEBZWVlfgmKyN+4OjIRUWTyOdHp2bMn1q5d63L8q6++alcLBnJTz8iSGsdFA4mIIpHPzcgLFy7E/Pnzcf78eUyYMAEAsGHDBjz//PN46aWX/B1fwHBTz8jCig4RUWTyOdGZO3cudDodnnzySTzxxBMAgK5du+L111/H7Nmz/R4gkT+wR4eIKDL5nOgAwL333ot7770X58+fR3R0NOLi4vwdF5FfcdYVEVFk8rlHBwCMRiO++eYbfPzxxxBFEQBQUlKC2tpavwZH5C8cuiIiikw+V3ROnDiByy+/HMXFxdDpdJg8eTLi4+PxzDPPoLGxEX//+98DESdRq6SwGZmIKCL5XNG57777MHz4cFRWViI6Olo+fvXVV2PDhg1+DY7IX+ShK/boEBFFFJ8rOlu2bMHWrVuh0Wgcjufk5OD06dN+C4zIn6QdzOv0JjQaTIhSc78rIqJI4HNFx2w2w2QyuRw/deoU4uPj/RIUkb/Fa1XQKC1/3dmnQ0QUOXxOdCZPnuywXo4gCKitrcXixYtxxRVX+DM2Ir8RBAFxUZYCZp3OGOJoiIgoWHweunrxxRcxfvx45ObmorGxEbfccgsOHz6M1NRUrFy5MhAxEvlFtHW4qkHvWpEkIqLw5HOik5GRgd27d2PlypXYuXMnzGYz7rzzTtx6660OzclEbU20xpLo1DPRISKKGC1aMDA6Ohpz587F3Llz/R0PUcBIFZ1GAxMdIqJI4VWis2bNGkybNg1qtRpr1qxp8ty4uDj07dsXGRkZfgmQyF9Y0SEiijxeJTpXXXUVSktLkZaWhquuuqrZ85VKJZ555hk88MADrY2PyG/kHh1WdIiIIoZXs67MZjPS0tLk3zf11djYiDfffBPPPPNMQAMn8lWMRmpG5qwrIqJI0aIenaZoNBpce+21+Pnnn/19ab/Kz89Hfn6+2zWBKDyxokNEFHlalOgcPHgQr776Kvbv3w9BENC3b1/Mnz8fffv2BQDEx8fjhRde8Gug/jZv3jzMmzcP1dXVSExMDHU4FATs0SEiijw+Lxj44YcfYsCAASgsLMTgwYMxaNAg7Ny5EwMHDsQHH3wQiBiJ/IIVHSKiyONzReehhx7CI488giVLljgcX7x4MR5++GFcf/31fguOyJ9sPTpMdIiIIoXPFZ3S0lLMnj3b5fhtt92G0tJSvwRFFAhRTHSIiCKOz4nOuHHjsHnzZpfjW7ZswdixY/0SFFEgxHDoiogo4ni9YKBk5syZePjhh1FYWIhLLrkEAPDDDz/ggw8+wOOPPx6YKIn8IJoVHSKiiCOIoig2d5JC4V3hRxCEdjddW5p1VVVVhYSEhFCHQwG0Zk8JFqzchVE9UvDf314S6nCIiKgVvP357VVFx2w2+y0wolCRZl1xejkRUeTw+4KBRG2VNOuquU09T1bU4+7/FKKiTgeFIEAhCBAEyL8Oy+mA568fDEEQghE2ERG1gs/NyACwadMmzJgxAz179kSvXr0wc+ZMtw3KRG1JlJcVnS1HyrD/TDXOVutwpqoRpy804FRlA4or6nGivB4f7zyNczW6YIRMRESt5HNF591338Udd9yBa665BgsWLIAoiti2bRsmTpyIFStW4JZbbglEnESt5u2CgTrr82N7peKhqX1hFkWIAMyiiJvf+AE6oxl6I4dziYjaA58TnSeffNJlZ/L77rsPL7zwAp544gkmOtRmebtgoMFk6c9PjdNiYKbj9iBalcKS6Jhal+jsLK7EA6t24/+m52JybnqrrkVERJ75PHR17NgxzJgxw+X4zJkzUVRU5JegiAJBnl5uMKGpyYZSEqNRuv7z0KgsxwytTHTu+U8hTpTX47fv/NSq6xARUdN8TnSysrKwYcMGl+MbNmxAVlaWX4IiCgQp0TGZxSYrMjrrsJSU1NhTW5Mfg7HZVRma1FxDNBER+YfPQ1cPPvggFixYgN27d2PUqFEQBAFbtmzBihUr8PLLLwciRiK/kHp0AKBRb4ZWpXR7nt6LRKe1Q1datRJoNLbqGkRE1DyfE517770XnTp1wvPPP4///e9/AIB+/fph1apVuPLKK/0eIJG/qJUKqJUCDCYR9QYjEqF2e17TiY5lSnlrh660bq5NRET+16J1dK6++mpcffXV/o6FKOCi1EoYTMYmG5L11tW93fXoyENXrUx03CVRRETkf/xuSxFFmnnV1Fo6TVV0/NWM7GnYjIiI/IuJDkUUqU+nqWZgKdFxN7wk9+i0shmZQ1dERMERsd9t8/PzkZubi7y8vFCHQkEUrbGM1jZZ0bFWa9Ruh67806PDoSsiouCI2O+28+bNw759+1BQUBDqUCiIotWWv/JNrY7szawrfzYjG1t5LSIi8ixiEx2KTDHWik5TzcjyOjruFgwMQKJTp+OaOkREgeLVrKuFCxd6fcEXXnihxcEQBVqUF/tdebeOTut6dADbzud1eiMSY9xPdSciotbxKtHZtWuXVxcTBKH5k4hCyJv9ruQtINwlOtKsq1Zu6mky215fp+PCgUREgeJVorNx48ZAx0EUFN7sYG5oKtHxUzOy0WyrCNUy0SEiChj26FBEifamoiNNLw9gj47965uaAUZERK3TopWRCwoK8MEHH6C4uBh6vd7huY8//tgvgREFQrSfFgxsbY+O0cSKDhFRMPhc0Xn//fcxevRo7Nu3D6tXr4bBYMC+ffvw7bffIjExMRAxEvlNjJ+akVtd0bEbumKPDhFR4Pic6Dz11FN48cUX8fnnn0Oj0eDll1/G/v37ccMNNyA7OzsQMRL5jW3oynNy0WQzstI/zcj2a+cw0SEiChyfE52jR49i+vTpAACtVou6ujoIgoAHHngAb7zxht8DJPInOdFpoqLT9Do6fmpGthu6qmOPDhFRwPic6CQnJ6OmpgYA0KVLF+zduxcAcOHCBdTX1/s3OiI/k2ZdtbRHx1/r6Bg4vZyIKCh8bkYeO3Ys1q9fj4EDB+KGG27Afffdh2+//Rbr16/HxIkTAxEjkd80t6mnKIq2oSt3e135afdyNiMTEQWHz4nO8uXL0djYCAB45JFHoFarsWXLFlxzzTVYtGiR3wMk8qfmZl0ZzSJEaw4SyGZk9ugQEQWHz4lOcnKy/HuFQoGHHnoIDz30kF+DIgqU5hYM1Ns1GbudXu6nHh2HWVfs0SEiCpgWraMDAOfOncO5c+dgNjt+wx80aFCrgyIKlOY29XRIdNwNXUk9OsbWrqPDig4RUTD4nOgUFhZizpw52L9/P0TR8Zu9IAgwmfi/U2q7ojWWRMVjRceagCgEQNVEouOuonOgtBq7iy/ghuFZUCia3vfNYdYVEx0iooDxOdG544470Lt3b/zrX/9Ceno6N/KkdiXaWtHx1KPT1IwroOlm5EdX70XhiUr0So/DsJxkl+ftOc664n8OiIgCxedEp6ioCB9//DF69uwZiHiIAkrq0dEbzTCZRSidKi9NzbiyHPfco3OuxtKkf6He0Gwc9hWdRiMTHSKiQPF5HZ2JEydiz549gYiFKOBirLOuAPfDV7aKjtLlOaDpdXRqGy1DUM01Koui6LB7uc7QusZmIiLyzOeKzj//+U/MmTMHe/fuxYABA6BWqx2enzlzpt+CI/I3rUoBQQBE0dKQHKd1/Ccg71zuaejKwxYQoijK6+HomtkewmR2TJJ0rOgQEQWMz4nOtm3bsGXLFnz11Vcuz7EZmdo6QRAQrVaiXm9yO/OqqX2uAM/NyDqjGQZrlcfQzKrJRqdEp5EVHSKigPF56GrBggWYNWsWzpw5A7PZ7PDFJIfag6bW0tE3sc8VAGhU7nt07Fc31jdT0XF+radVmomIqPV8TnTKy8vxwAMPID09PRDxEAVcUxt7NjvrSq7oOFZlpP4cy3NNJzpGp9cazaLDujpEROQ/Pic611xzDTZu3BiIWIiCwraxp+v6NTovEx3nPhz7ik5ziY7B7Pp8c309RETUMj736PTu3RuPPPIItmzZgoEDB7o0Iy9YsMBvwREFgjTzyt2QkdSjo1a6Xx/KU49OjV1Fp7mkRaroqBSC3K/TaDAhVtvihcqJiMiDFs26iouLw6ZNm7Bp0yaH5wRBYKJDbV6U2vPGns1NL9d4SHR8qehIiY5GpYDCZNktvZEVHSKigGjRgoFE7ZlU0XE766qZZmS1h2bkmkbbIoHeDl2pFAKUCgF6kxk6NiQTEQWEzz06RO1d083IlmPNrqNjEh32evNl1pVU0VErFXJ1iVPMiYgCw6uKzsKFC/HEE08gNjYWCxcubPLcF154wS+BBVp+fj7y8/M5JT4CRas972Du7To6gCXZkaab1zjMump6HR2p4qNSCvL1uA0EEVFgeJXo7Nq1CwaDpTS/c+dOjxt5tqcNPufNm4d58+ahuroaiYmJoQ6Hgkjawdxdj46UpHje68o+0THLCZFDRae5Hh2z1IxsX9FhokNEFAheJTr208m/++67QMVCFBTRTSQXzU8vtyXz9r049uvoND90ZZvZFaV2P12diIj8w6ceHaPRCJVKhb179wYqHqKAi9ZY8vumZ125/6ehVAiQCpf2lRuf1tGRppcrFYiyzu5iMzIRUWD4lOioVCrk5OSwr4XaNa+2gPCQ6AiC4HZ15BpfVka2m3WltVZ02IxMRBQYPs+6+r//+z888sgjqKioCEQ8RAHX5PRyaxLvqUfH/jn7Hcxrdbbp5T7NupIqOmxGJiIKCJ/X0XnllVdw5MgRZGRkICcnB7GxsQ7P79y502/BEQVCayo6gK1Px+Bh6Ervw6wrTi8nIgosnxOdK6+8sl3NriJyJq2j426vKynR8bSODmCbYq732IzcdHVGmnWlVijk9+GsKyKiwPA50XnssccCEAZR8NgqOq5VlObW0QHc72Du2IzcdEVHSnSUCgFatTR0xYoOEVEgeN2jU19fj3nz5qFLly5IS0vDLbfcgrKyskDGRhQQth4dzxUddVM9OirX/a58akZ2GLpiRYeIKJC8TnQWL16MFStWYPr06bjpppuwfv163HvvvYGMjSggoprYAkLXzF5XgF2PjvVcvdHsUJHhFhBERG2H10NXH3/8Mf71r3/hpptuAgDcdtttGD16NEwmE5RK9zs9E7VFXm3q6UOPTp3OsTLkvDLydwfP4dPdJXj8yv5IiFI7bOop9+hw1hURUUB4XdE5efIkxo4dKz8eMWIEVCoVSkpKAhIYUaDIPTot2OsKcO3RqXVKdJyHrt7cfAyrd53G94fOA3Bf0dGxokNEFBBeJzomkwkajcbhmEqlgtHo2udA1JbZ715uvwM54F1FR15Hx5rQ2Pfn2F9DIiVU0krMDtPLWdEhIgoor4euRFHE7bffDq1WKx9rbGzEPffc47CWzscff+zfCIn8TKromEVLT45UVQFsSYi2qR4dleM6Oq4VHafkyXqe1Mdjv6mnPOuKzchERAHhdaIzZ84cl2O33XabX4MhCoYYjQqCAIiipRpjn+j41KNjlBIdy6rICVEqVDcaHVZMBgCD0ZLYSMkMN/UkIgoerxOdt956K5BxEAWNUiEgKVqNynoDKuv16Bhvq1L6kuhIlRtp6Co5VoPqRiN0Tj06BqeKjm1TT0HeAoLTy4mIAsPnva6IwkGHWEu/WUWd3uG4N83Izj060tCVdE2DyezQ+yMlOHJFR551peCmnkREAcZEhyJSiodEx6d1dJyakaVriqKtD8f+vEapR0eedSVwU08iogBjokMRqUOMh4pOC9bRkfa5kq4JOE4xl4euDNKsK2noytaM3FRFp05nxKGzNc19JCIicoOJDkWkZGv1pdIu0RFF0bt1dKQtIIyO6+hI17R/DrAlT7ZZV9ZmZIV3W0A8+L89mPLi99h7usqbj0ZERHaY6FBEknt06m2JjtEsQmqt0Tax2rendXSSYjQQLKNa0JlsiYtUwWl0V9Hxohn58DlLNedEeb0Xn4yIiOwx0aGI5K5Hx36hP2mtHHece3Sk6eXxUSqXGVn2VSK5ouNmU8+mppdXNViuX+9mE1IiImoaEx2KSO56dOwTnaabkZ16dKxDV/FRKlu1x2kqOeC6YKBaYbcFhNHsskozYEmULtRbEh13m5ASEVHTmOhQRJJ7dOyGrqTERSFYhpU8kfp3DE7NyHFalfycdC37puRGeXq5bR0drV0vkLuqTp3eJJ/vbm8uIiJqGhMdikhyj06ta0WnqUZkwG7BQGvDcY3OluhIw1p6o2ui4zJ0pRAcVmV2t7HnBbtErJ6JDhGRz5joUERKcdOMLM+4aqKaY/+8S0XHoUfH8pz9cJi0Vo59M7JaqYBSYUmO3G3sKQ1bARy6IiJqCSY6FJGkik6jwSwPCdkqOp5nXAG2ZmSXHh2t2jZ0Zb2W3mHoynF6ucqa4Mg7mLtJZKRGZKB9NCM36E34Zt9ZDrMRUZvBRIciUqxGKVdmpKqOlJxomxu6suvRMZlFeUgpzr4Z2Vq1cWxGljb1lFZGtpyrtWtIduZQ0dG3/W0iVmw7jrve+Qn/3loU6lCIiAAw0aEIJQgCOsSqAdj6dLxZLBBw3NRTquYAQKxWadeM7FglAmw9OAa76eVA0xWdCw22obUGQ9uv6Jy+YFnrp6isLsSREBFZMNGhiJUca9m13Lmi422Pjt5olhMdjcqy+J889dwoVXSamHWlsJwb1cQ2EPYVnfbQjFyns8RYXqsLcSRERBZMdChiJVsrOtI2EL7OutKbzHIjcrxWZX3OcTFBfROzrqRzNV726LSHvhcp8Sur1TdzJhFRcDDRoYglLRpYbk10dF4nOrZkRloVOS5KZX2tpTojTy83OiY6oig6zLoC4LBooDP76eXtYdZVnTXRYUWHiNoKJjoUsZw39vR2erl9M3KN3WKBltd6rugAlmTGflNPAE1u7Ont0JXZLOLY+Vq3qysHU501xrJafchjISICmOhQBEt2WktHqsKom6noaOwWDKzVOSY6zuvoGNwlOh4qOu6bkb0bunp5w2FMeH4TvvjlTJOxB5pU0dGbzPJCikREocREhyKWS0XHy2Zk+2RG7tGRh64cN+mUmpIlOqMJBrPjrCut02vsVXm5YODR87UAgJ9PVTUZe6DV2SU35ezTIaI2gIkORSznHh29dZ2bZtfRsVsw0HNFR5TPsacz2Co6apdZV01PL29qwUDptacvNDQZe6DZJzpl7NMhojaAiQ5FLI89Ol6vo2PXoxPlYejK6Dx0ZbJrRpbW0fFuwcBGgxlms/u+F6nacyaEiY4oinKPDsCGZCJqG5joUMRy3sHc63V0VLaqja0Z2TJVXeu0BYRzj06jwa4ZWRq68tCM3GgwuSQ/7vbDAmz9OyUXGpuMvSW+P3QePxwrb/Y8ndGyUrTkPIeuiKgNYKJDEcuW6BhgNovQWyst3u9ebpteHh/V/Do6gKWiIzcjK5qeXi5Vc6RNPwHPM68arIsNnq1pdEmuWqO60YA73y7AnSsK5PV/PKlzaj5mRYeI2gImOhSxkmIsVRiTWUR1o8GHBQNde3TinYau9G52LwcsPTrebgEh9eckRavlKeieZl5JrxVF4Gy1/6o6JyvqYTBZhqTqm1nHR1oVWcJmZCJqC5joUMTSqpRyE3FFnd7rREfjrkdH6zjryjZ05Tzryja847ypp0uiY63oJMaoEaOxXN/TzCv7BMh5+OpsdaNXQ0/u2F/LuWLjrNbpeTYjE1FbwESHIpp9n460Eae3PTpm0Va18LSOjnNFp9Fgkve6koakPE0vlxKdpGg1oq3JkOehK/tEx7Eh+f73d+OmN37A3tO+Tz23v5ZzxcZZnd556IoVHSIKPSY6FNE6WBOd8lrvKzqJ0Wo5QTp4tgaA3RYQyqabke2rHs1NL6+Shq5iNIjRSImO+6qKQ6JT5ZjoSI9/aWWi09T0dsC14sOKDhG1BWGR6Hz++efo06cPevXqhX/+85+hDofakWRrn05lvS3RaW4dHUEQcFFWEgDIw1Dx1llX9jOyLL86Jjr2yYDco+Nh93KHio7G81o7JrPoUDlyruhIw1pFZXVNfi53SqpsQ1fOQ1POpIpPijUJZKJDRG1Bu090jEYjFi5ciG+//RY7d+7EsmXLUFFREeqwqJ2QKjoVdQav19EBgKE5HRweO6+jI13LeTjKfp0Z15WRnZuRbT06TQ1dOSc/Z5x6dKRqz7HzzSc6J8rrsGDlLvxaYqn+OFR0mhu6siZC2SkxAIDqRqPL0B0RUbC1+0Tnxx9/RP/+/dGlSxfEx8fjiiuuwNdffx3qsKidSLHv0fFyHR0AGJrtlOh4bEZ2/EEvNS8D7oauPFV07IeuXJMN5wZl59WRpYrO8fLmE52PCk9hzZ4SvPn9MQBOPTrNDV1Zn89IjIbK2n9UXseqDhGFVsgTne+//x4zZsxARkYGBEHAJ5984nLOa6+9hm7duiEqKgrDhg3D5s2b5edKSkrQpUsX+XFmZiZOnz4djNApDNj36EjVF7UXic7grESH9W08raPjaehKIQCKZnYvl3p0OsTahq7cTS93PmafnBhMZrn5+UR5nTzU9lHhKXx74KzLtaTtMPaWVMNoMjtMVW+2GdluO4xku/tKRBRKIU906urqMHjwYCxfvtzt86tWrcL999+PRx99FLt27cLYsWMxbdo0FBcXA7AsO+9MEASXYxKdTofq6mqHL4pcydb9rn44Vo4DpZbGYm+GrmI0KvTrHA8AUCkEefhJ08ysKykZUNklU1oPW0BUN9jW6IlWe55eLiVIUgzVjUa5n8b+fINJxOnKBhwvq8ODH+zB/e/vdrmWNFx27HwtjpfXwX7Hieanl1veK1arQmqcFgBwnn06RBRiIU90pk2bhr/97W+45ppr3D7/wgsv4M4778Rdd92Ffv364aWXXkJWVhZef/11AECXLl0cKjinTp1C586dPb7f008/jcTERPkrKyvLvx+I2pWsZEs/yekLDThfY/mhnBKn8eq10vBVXJRKTq49raMj9djUWJMFtV01SKro6JySGOnceK3aq6GrlFgNEqyVJWnPK+dqz7GyWhSeqARgSYic9866YN0OwywCG/afc3iu2aEruaKjlO8hKzpEFGohT3SaotfrUVhYiClTpjgcnzJlCrZt2wYAGDFiBPbu3YvTp0+jpqYGX375JaZOnerxmo888giqqqrkr5MnTwb0M1DbNrJ7Cl68cTAevrwvHrq8D56/fjAu6Zbi1WulRCfWupgfYN+M7Lh7udSs7K6iI/foOFV0ahsN8mttQ1euyYaUzERplMhIigZg69NxTnSKyuqw++QF22s9LFIIAOv3OQ5teVrDRyIlQjF2FR1uA0FEoaZq/pTQKSsrg8lkQnp6usPx9PR0lJaWAgBUKhWef/55jB8/HmazGQ899BBSUjz/oNJqtdBqtQGNm9oPhULA1Rdltui14/umYWCXRIzvmyYf87RgYHyUCudrdHKiI/XyALbdy517dKTGZcvQlTXRcTN0JR2L0SiRFh+FA6U1OGOdFu58flFZHXadrHR4bazW9m3APtEpLK50eG3z08stz1uGrjjFnIjahjad6Eice25EUXQ4NnPmTMycOTPYYVGES4xW47M/jHE45mnWVXyUZZ0daThK2tATsO1e7tyjU+vl0JWUIEWrlchIigJga0h2Pv/AmRocOFMjP3au+EhDV4Bl3yzpug0GE+q9XEfHMnRl+c9EGYeuiCjE2vTQVWpqKpRKpVy9kZw7d86lykPUFkg9MhV1eoiiaEt0tM5DV64VHZPZdr7JLMpJiuPQleeKTpRaic6JlqErqaLjXCUqOFEhz8Jyfl5vNDus8yPpmRYHwNZs7Ik0dBWrUSE9wZLoOC9eSEQUbG060dFoNBg2bBjWr1/vcHz9+vUYNWpUiKIi8qxraizUSgG1OiNOVTbIvTrxco+OJVmwn8IuVXQAW+JhP0wUq1U2uWBgg96SHEWrlba9u6zTxKXEKCvZkgA5T1K0H9qSdksXBFu8ANDLmuh4uwVErFaFbGuT96lKJjpEFFohH7qqra3FkSNH5MdFRUXYvXs3kpOTkZ2djYULF2LWrFkYPnw4Ro4ciTfeeAPFxcW45557Qhg1kXtqpQI9OsbhQGkNDpbWOPToALaqh8pu1pX9lhM6oxnxAGqsjcgalQJalbLJ3culY9EaJTrYbWkBAPXW57okReNCvcFhwULAMXGqknZLj1ajb6d4/HDMssJ4z3RLotPc9PI6u+nlGYmWIbQzVQ0wmMxerU1ERBQIIU90fvrpJ4wfP15+vHDhQgDAnDlzsGLFCtx4440oLy/HkiVLcObMGQwYMABffvklcnJyQhUyUZP6doq3JDpna+ShqDjrXlhSRcV+1pUgCHIfTJ3OiNQ4rVzRkYbCYpoYurLv0UmyrgskNRU36qVGZRW6p8Ziz6kq63taYnGs6Fhe0yFGgwEZiXKi0yvNsl6Qu2Ete7V208s7xmuhVSmgM5pRcqEBOSmxTb6WiChQQv7frHHjxkEURZevFStWyOf8/ve/x/Hjx6HT6VBYWIhLL7201e+bn5+P3Nxc5OXltfpaRPb6dEoAAOw/U23XjOz4fwr7WVcA5J6WUmtvTW2jbZVhwDYF3d3wkTy9XK1EhxjblhaAY7WnW6ol2RAEoK81xka75EUa7kqMVmNAl0Q5bim25pqRpdhitZZ1hTI7WIbLTlZw+IqIQifkiU6ozJs3D/v27UNBQUGoQ6Ew09e6YrK7oSuJ/dAVAJcmYml2VpxTRcd5PyzA/dBVVYMBZruG5mi1Et1SLUNQvdPi0TFe6/BawFbRSYpRY2SPFMRpVRjdI1UeNmtqernOaJIXR5TOlxZjPFlZ7/F1RESBFrGJDlGg9O1kSXSOldXZpoi7JDqO//ScF/pzrujYppe7qei4Gboyi5Z1eOyfm5ybjhiNEtcPz0S0tQHaPtGRenQ6xGiQnhCFgkcn4bVbh8ox1OtNbrdcARz3wYq1xprVwZLoFFcw0SGi0Al5jw5RuOmUEIWEKBWqG412i/6pHc5ROQ1ddXFa/6ZGTnQsr4tqYtZVo13VRqNSIFajRJ3ehMp6va1/R6NEbkYC9i25HACw97SlV8e+50ca7kqMVsuvAYAYreVXo1mEzmiWY7EnNSpHqRVy/5E08+okEx0iCiFWdIj8TBAE9O2c4HDMpaLjNAupc5Lj0FWtzlJdcW5G1hnNLvtTyevoWM9JsuvTkSpA0U7Jibt1eeybke3Zb3HhaRsI+zV0JNKU9pOcYk5EIcREhygApOErSZzWqRnZqUdHGroqcR66khMd2+udp5jbD08BQIdYS0XmQr3BtsaOxjHRiXKzpYQ0dJUU41h9UioEeeNRT1PM7dfQkWRah65OsaJDRCHERIcoAPo4JTreDl1JPTpyM7I1cbBfa8e5qtKgd0p07Co6jU5JkMTd3lnS0JVzogPYKjWedjC3X0NHIjUjl9fpm12Dh4goUJjoEAWANH1bktDc0JV11lVNoxE1jQaXio5CIdiSE6dEx9aHY7mm1GNTWW+wDV05VXRss7jshq7kio7j0BVgS2Caq+jEaW3vkxitlj83V0gmolCJ2ESH6+hQIDlXdOKc19FxGrqK1arkBOVMVaOtidmuQiIvGuhh6CrKqaJzoV7vMqwliXKTNEkbeiZFu1Z0pPeu87DflTS7zH6IDQCyU1rekGwyu5/hRUTki4hNdLiODgVSnFYlL5gHWDbuVNolN84VHcBxirltWrot6fC0aKBLj47dNhANBrPDc5JoN7uh26+j4+7zuHtvSZ3TUJukpVPMD5+tweDH1+Glbw759DoiImcRm+gQBZo0fKVSCFAoBIc+G+eVkQHI+0OVXGhw6dEBPG8D4dxwbL8NRIPe6PBaiXOPjs5okpMed0NXMVpp0UBPs66kHh3H92npooGFJypRqzNi65Eyn15HROSMiQ5RgEgzrzTWBMd+/RnnBQMBW0XnzIVG1Fo39bQf8vI4dOU0hdxh1pXT1HOJdK7UoyPNuFIIjsNlEqn3prmKTqxLRadl20BUWz+/p8SKiMhbTHSIAkTq05F27rav6DjPugIcp5jXNLpWdNwNN4mi6DJ0Zb+OjvOMLOdrSa+1DVtpoFC4xtbcNhByouPUo5Npreic8rGiU91gtL6fwafXERE5Y6JDFCBDspKgVAjolGAZknIcunJX0bFNMXe3dYS7WVd6kxlSz65UtengMHQl7V7uYejK+rw848pNIzJg16PT7NCV+x4dX2ddSRUdT83PRETe4hYQRAGSlRyDj+4dhdQ4S+LhOHTluaJzqrJBrtrYNyNLVRX7oatGvW2TT3fNyB7X0XHq95G3f3DTiGx5b8v5zhWdrUfKEKVWuJ1eDgAd47Ty6/RGszyM15xqa4VJmmZPRNRSTHSIAmhIVpL8e8ehq6ZnXUnsm3vdDV1JSY9KIchVImnoyv48Tz06DU49Os7bP9jicJ11deRcDW771w6IIqCxvrfz9PL4KBUEARBFy47q0q7pzam2Jjh6kxk6owlalev+WkRE3uDQFVGQ2P+wdl5HBwDS47WwP6xRKRxeYxtusiUb7tbJSYhSOUxld34ecN0C4kKD5zV0ANuO5HV2ydP2YxWQNjPXmyyVJeehK4VCkIe9pOEob0gVHaDp4Svnfb+IiJwx0SEKEq266YqOSqlAurWfB3Cd/RTjrqKjd51VJQiCQ8KiVgouPUHR8srIlk1CK60VHU9DV+5WRt51ohIAcO3QTFzevxN6psVhaE6Sy2ulhRCrGnxIdBrtEx3X4auKOj0Wf7oX/f66Fv/aUuT1dYko8kTs0FV+fj7y8/NhMrHZkYLDoaLjZtYVYBm+knYwd15N2XmmlP3vnSs2iTFqlNdZqjRRatdhH/vmZJ3RLDcjNzt0ZVdd2VlsSXRmDO6McX3S3L4OsCQ6pyobfEt0GmzJTY1Tn862I2X43buF8vEth8/jzjHdvL42EUWWiK3ocGVkCjaHio6boSvA1qcDOM64AtzPuvLUbGyfsDg/B1hWapY0GEy27R+8bEYur9XheLllyvhFWR3cvkYiVXSqW1rRcVq756UNh1HTaJRjrWbDMhE1IWITHaJgs08ulG6GrgDb6siA63YK3g5dAbaZV/avs2e/UnO93ihXdBKbm15uTTp2FV8AAPRMi/M43CVJiPIt0TGYzA6f0X7mlcFkxs+nLO/94JQ+AHwbEiOiyMNEhyhI7Cs67pqRAceKTpzWMYGIdjO93DZ05fhP2X4bB3dDV5br2VZHlhYM9DR0ZVsw0PJ+0rDV0Owkt+fb87VHx3moyn5K+/4z1Wg0mJEYrcZF1hltTHSIqClMdIiCpLnp5YDvQ1eeenTsKzrRbio6jtczNzt05VzRKTwhJTpND1sBtgZnbxMS58qPfaKz0/q+F2UnybEy0SGipjDRIQoS+8qKp2bkzt4MXRlsP/jlHh2nZMa+ouNu6Mr+NfV6o9y47LGio7UNm+mNZvx8qgoAMDSn+UQnwZqw2TcYN8V5Grr9rKtC65DZsOwOcqVIbzTL94GIyBkTHaIgcajouNnUEwC6NFXRsVvNWLQuYCP36PjYjGx//HytDnqjZR0cTwv62Sddu4or0WAwIT5KhZ4d49yeb8/XoSvnhMh+KEuq6AzN6YBYjUped8iXRmciiixMdIiCxH56ubtNPQHL0JGUgDhPL5cqM0fP1yHvyW+Qv/GIV0NXHnt0rMelncXjtCqP52pVCjmp+PrXswAsw1buNgB1luBrouOholNa1YjTFxqgEIDBWUlQKASfr01EkYeJDlGQRNk3I3tIdARBQGfr5p7OCwbaJzNltXqs/LHYY6Ljy9BVcYVlmri0J5enuKS1dNbsKQEATOrnee0ce/L0ci9XRvbUoyM1QPfplCBXmFqyGCERRRYmOkRB4lDR8TB0BQDdUy3DQWl2qyQDrn04pyobUHS+zu1zHWLtmpE9VGmk6s2pSinRaXofqljrzKuyWh0AYFJuepPnS1pb0ZETHeuw1TC71ZdbkuhUNRiwy5o0BdrZ6ka88f1ReS8xIgo+JjpEQeI468rzkM/iGblYdu1ATOjrWDGJ17qujbP9aDmApnt0nNfYkdiGrrxMdOw2GB2UmYjOidFNnG3T0h4d50UKC4ulRMfWAO3p2qIo4si5Wrd7YT384c+4+rVtKDxR4VU8rfH6d0fx1JcHsLKgOODvRUTuRWyik5+fj9zcXOTl5YU6FIoQjrOuPP/Ty0qOwY152S7nJMao8dDlffDQ5X1ww/AsAECNNQlw2QLCbuG/GLX7nV6kRELaLT013vPQFeC4Yefkft5Vc+xjqdUZvdqEU6roSFPtpR6dI2drAQADMhLlcz0tRvjejmJMemET/r3VdR+sQ2drAAAHS2u9/gwtdaLcUnErtW7rQUTBF7GJDreAoGBznHXVfBOvO78f1xO/H9cTeV2THY47D11FqZVy8hOtcf/PXEq8DCZL8uHt0BUATOnfyeuYpWREFF0XA3RHSlqkRKem0YiaRoOc1NmvNWQbFnO87q8l1QCAH46Vu1z/fI1l6O1sdeCTD2nfsgrr9H0iCr6ITXSIgs1hZeQmKjreyOvquH6Nuz4caeaVx+nlTsmRt0NXOSkx6J3e/LRyiUalkGOoajCgok6PT3ef9rj2jbR3VRdrU3ad3ignDAlRKofKkqehKymZOXTWsWrToDfJCdM56zmBJCVTlfVMdIhChYkOUZDYD1011aPjjbSEKOSkxLi9tkSaedXc9HJJc4lOYrTlepP7pUMQfIvffubVi+sP4b73d+PDwlNuz5UqOlIPUG2jESXW4TX7ao79dV0THUuCcbKy3mElaamRGgDOBbii02gwodLahMxEhyh0mOgQBYk3Cwb6YniObfjK3TYP3TvGAgC6dHDfNOyc6HRspkfnrrHdcNsl2fj9+J6+hoqEaEsVpqrBgCPnLFWWw9ZeGWeuPTomuaJjv3K083XtSRUdUYT8foBjFSfQFR37obHKOs66IgoVJjpEQWI/vdzTOjq+sB++cjc89berBmDV3ZdgZPcUt693no3VXEWnX+cE/O2qgUiObTohcse+8lJqTQBOVTa4PVeadSXt5K43mXGi3DIzrLOHio79lHRRFHHernJzyC6hOm+X3AS6R+eMXQMye3SIQoeJDlGQ2C8Y6GlTT18Mt2tIdpfoJMVocHH3FI/DTDE+Dl21hn2ic6bKkuB4THSsSYt9UiNVfzKcKjpyomNX0blQb5AbrAHg0Dm7RMcuASqr1cHkxSywlrJPpBoMJu7HRRQiTHSIgsShotPCWVf2enSMRaeEKAiC5z2qmmI/3BWtVjo0+fqbNDuquKIejQbLvlqnKuvlPbskBpMZ9daemg5222Ectg4/Oa/d465Hxz6ZAYDDdg3J9hUdswiU1wZu+Mp5Sjn7dIhCI3Df2YjIgX2PjtIPiY4gCPjPnSNwrkaHTk6VDm/YV4GaW0OntaQp5gfOVMvH6vSWZl37oTD76edxWhXiolRoMJhwslIaunLq0Ylyk+g49d44Dl05Jh/nanQuK1D7yxmnRKeiTu/1IotE5D+s6BAFicOCgSr//NPrlR6P0T1TWx1PIIetAFvlxXm6t7T9hEQagorTqqBSKuQ9raTCT4aHik693gSDyVIpkhKdfp0TrO/RIC866JwEnasJXJ+Ocw/QBW4DQRQSTHSIgiRao8Tto7rilouz5UpEqOORpMQGJ9GRVmGWOPfpSP05Cdad2+OchtOcK1cJditAS0mSlLz0SY+TNyqVhr6kREdasPFsdeCGrtxVdIgo+JjoEAXRYzP746mrB4Y6DACOu5o3N7W8tewTEnuuFR2jw/n2+2ulxGpc1gRSKgR5l3dp+EpKZjrGa9ErLR6AbfhKeq5XuuX4uQAmOlJFR2qgZo8OUWgw0SGKUNEhGLqSaKxDd54rOpbz4+w2MnXuz5E4744uJTNp8VHyCs6Hz9Y4TDvvn2EZ1joboKErk1mU1+mRhtC4lg5RaERsosNNPSnShaJHRzIkMwmAm0THmqxICwHG2VV0PDXyOic65+wqOr07WSo3B0prUNVgm3YuJTqBquhIU9eVCkGuHrGiQxQaEZvocFNPinT2PTrBTnTyulkWOzxZ4TR05VzRibL16DivoWO7tuehq4FdLDud7zl5Qe7HSYxWI7ODZfuMQDUjS1PLO8Zp5T4h9ugQhUbEJjpEkS7KbuaX9MM4UKQKjURa7PBUZYPDWjquPTq21zmviiyxrY5snVlVKw1dadGvcwKi1ApUNxqxo8iyk3nHeC3SrOsOBaqiIzUipydGydPnWdEhCg0mOkQRSqVUyGv7tGTBQV84V3SGZlsqOg0Gk0Olw3nWVbx9ouOxomNbHVlnNMnTuDvGa6FWKjDIOkz29a+lluNxWqRb1845H6DVkaVG5M4JUejARIcopJjoEEWw+yf1xq0XZ6NbamxA3ydarZT390qO1SAxWo30BEtyZd+nY+vRca3oOO9cLrFfNLCs1pJMqJWCnABJSdUPxyoAWBKg1DgNBMHSNByIISWpotMpMQodrLvIsxmZKDSY6BBFsHvH9cCTVw/0uB+WvwiCICcknazVFKlPRhq+qqzTy8NOtllX3ld0quoNtv6cOK38mYZmJwGAXLnpGK+FSqmQ1w5q7eaejQYTXlh/CPvtVn2WrtkpMQrJMe57dKrqDThyzv0O7kTkP0x0iCgopIRESliyOlgqNIfP1eDWf+7ARU+sx9Yjlj4a26wry6+CAHm4yeW6MbaKjpzo2J07NKeDw/nSMJ3Up+O8WrKvVv5YjFc2HMYjH/8iH5M2Lu2UEIUOsZb4nDf2nL9yJ6a+tBl7T1e16v2JqGlMdIgoKKThKGk9HKmi89rGo9h21JLgaFUK9EmPR561WVmadZVm7bdxx9aMbJBnUXW0m0WWGqdFTkqM/Fh6Tho6a21FZ/PhMgDA7pMX5PeXVoBOT4iybGdhXYlZ6tOpaTRg65EymMwivjt4rlXvT0RN46aeRBQUcqJjXQ8n01rR0ZvMUCkE/OfOizGyR4rDawZ1SUL31FhM6d/J83Wj3FR0nJqrh2Z3wInyeofn0uItCVdrtoHQG8344Vi5/HjjgXMY0CURJysaoFEqkNs5AYIgoEOsBudrdPLGnj+dqITUA72jqALzWxwBETWHFR0iCoqLuyVDrRRwcTdLtUaq6ADAX2fkuiQ5gGVY6ts/jsOfp/X1eF37BQNtqyI7JTp2w1dSopNtrfKs2FaEncWVXn0GvdGMO976EZNe2IQL9XrsPnkB9XrbcNSG/efwUeFpAMCk3DR5WE3q05FmhO2wNkYDQOGJShitG5J6smH/WQx9Yj0+KjzlVZxEZMNEh4iCYt74nvjlsanyGjrDu3bAxL5puG9iL8y6JKfF15WGrkqrGvHtAcswkGtFJ0n+vfTcbRfnYHBmIirrDbjlzR+wzjr9vCmPf/YrNh48jyPnavHejmJsOXweANArzbLVxObDZfhktyXRuW5Ypvw6qU9HakiW1vQBLDuv/1pia2R2Vl6rw58+/BkVdXq8vf24y/Nr9pTg8pe+l/fzIiJHTHSIKGjst52IUivxr9vz8MDk3q2a9dU1JQZDs5NgNIvytG7nRKdvpwRclJ2E4TkdkGJd1yYxRo3//vYSjOvTEY0GM373biGWf3vYYQFDeyt/LMZ7O4rlx29vO46NBy2Jzl1ju6FTQpS8LlBqnBaX9uoonytPMa/Xo15vxC+nLA3I0j5YPxbZKjzOFq/5VU6Qfj5V5bCas8FkxpNf7MOB0hr8Y9MxL+4WUeRhokNE7ZpKqcCH94zCKzdfhK4pMYjVKOWtHyRKhYCP7x2FD+4Z6ZBUxWpVeHP2cNx2STZEEXhu3SHM+tePeHvbcRQcr0DhiQqs3XsGd64owKOrLbOq7pvYC+kJWpyr0eEX64ypsb06YkK/NPm6V1+UAZVd87S0aGBFnd4yVGUW0SUpGldflAHA0qfjztq9Z/D5z2egVAjybLXvrMkVAHy1t1TuMfr611KHWV1ms4gFK3dhwnPftXpmGVF7xmZkImr3FAoBMwdn4DcDO0NvMjtUjiSeqkZqpQJ/u2og+mck4q+f7sWWI2XYcqTM7bk3DM/E/ZN6QatW4Jm1BwEA3TvGIiMpGpP6peG/1orPtXbDVoBjj47Un3Nx92SM6GbpSyo4XgGzWYRCYYvxXE0j/rJ6LwDg3st6QKEQ8MqGw/ju4DncMDwLAPDW1iL5/FqdEd/sP4vfDLIkTyu2HceaPSUAgP9sP46FU/p4vH9E4YwVHSIKGwqF4DbJ8cbNI7Lx+R/G4oFJvXFZ747ISo5GdnIMeqbF4c4x3fDNwsvwzHWDIQgCbh2Rg2jr+4zpmQoAGN0zFeP7dMTNI7LRt1OCw7WTrE3JJRcasPWoJYm6pFsK+mckIEajRFWDAYfsFg8URRF/+sDSl9OvcwL+MLEnJvS1VIw2HyqDwWTG7pMXsKv4AjRKBW4YbkmsPt1tSWwOlFZj6doD8vXe21HsUO0hiiSs6BARWfXpFI8+neKbPS8xRo35E3ri1W8Py03HWpUSb90xwu350sae6/adlY+N6JYMtVKBYTkdsPlwGZ7+8gDuHNMNidFqrNtXik2HzkOrUuCVm4ZAq1JiUJdEpMRqUF6nx45jFfjPD8cBAL8Z3Bl3je2O//10Ct8dPIcfjpVj0Sd7oTeaMa5PRxw+W4vTFxqwZk+JXAkiiiQRW9HJz89Hbm4u8vLyQh0KEbVD88b3xP4ll8ubhjblku4pyEiMglopQKNUYHJuuryI4ZTcdADApkPnMfvfP+LK/K3I33gUAPCXK/qhV7ol8VIoBFzWx9Lg/Nt3fsLXv1qSprmju6F3ejz6dU6AwSTipjd+wOFztUiN0+DZ6wZj9kjLjLZ/byny2GjtrKre4LDZ6Wd7SjD/vzu5ijO1S4Lo7d/8MFVdXY3ExERUVVUhISGh+RcQEfmRKIooPFGJ1btOY92+s1AIljWGxvfpiHnjezr0Fn3+cwnm/3cXACA+SoXHZ/bHNUMtFaU3vz+GJ7/cDwCYPrAz/jytL7KSY1BVb8AlT29Ag8GE313WHdcPy0JxRR3W7zuLQ2drUVrVCEEArhmaiXF9OuLdH07gk12n0Ts9Hn+/bRh2FlfiwQ/2QBQtTd13X9od903s1eIhQiJ/8fbnNxMdJjpE1E406E1Y8P4uxGtVeHhaX4f9vwwmM94vOIkBGQm4KNtxf6+nvtyPN773ffp5vFaFOr0RZhHonR6HQ2drAQDdU2Ox9NpBGGFd/JEoFJjoeImJDhGFO5NZxJo9p/HxztPYcqQMnRKiMCU3HSO6pSAjKQonKxvw9rbjKDxRifF9OmLOqK549dsjKDxhWTH6huGZWHrNIHyz/ywWfbpXntIuLZQowlKZUisV6JYai55pcUiN0yIhWoWOcVHITo7B+VodPt19GruKLyAtXous5Bhc2jsVl/bqiKoGA1ZsO44T5fV4cEpv5KTEhupWUTvCRMdLTHSIKJI0GkzQqhRup9uLoigf1xvNeOP7ozCLln4kpXXqe1WDAUu/2o+VP570Szwd47WoaTSg0WDZBiNGo8Sj0/thcr90xGpV2HKkDF/9cgYalQKzR3bFAKc1kihyMdHxEhMdIiLfHT1fK+/8LkCAIFiG1o6er8WxsjpU1RtQ1WDAmaoGnKxsgFohYGr/ThjfNw1VDQYcLK3BF7+ckVd9HpSZiCiVEj8e97xKNGCZrdY9NRYxGhUOlFZj7+kqJMaocVFWB2QkRaNWZ4DOYEZ8lBodYtTI65aMvK7JcqJG4YOJjpeY6BARBZbZOoNL4ZRs6I1mbD1ShlitCnldO0AUgX9tKcI/txzD+RodzCLQKSEKvxnUGedrdfhsTwnMLfiJlRqnQe/0eCgVAgRBgFIANCoFsjrEICc1FhqlAL1JRLxWhazkGGhVCuw/U41TlQ3ITo5Bv84J6JkWB40qYicqt0lMdLzERIeIqO0xmUXUNBqQEKWWE6Ti8npsOVKG8lodqhoM6JEWh4FdEnGh3oBdxZWoqNcjPkoNrUqB6kYDSqsa8d3B86hqMLQ6HpVCQM+0OGQlW7YZUSsV0BnNMJrNyEiMRreOsUiJ1UCrViJKpUS0RokotUL+fXKsBmolEyV/YqLjJSY6REThy2Ayo+B4Bc7X6CCKlgTKJIpoNJhworweJ8rr5UbqCw16FJfXo8FgQp9O8chOjsHx8nrsP1ONmkZjq+IQBCAlVoOEaDViNErEaFTWX5WIVtt+Lx2Plh8roVUrYTKJMJrNyOwQg97p8awuwfuf31wZmYiIwpZaqcCoHqmtuoYoiiipasT+kmqcq9GhXm+EzmiGVqWAQhBwqrIBRWW1qG40otFgsn6ZoTNafq23TtEvq9WjrFbf6s+kUSrQpUM0YrWWxChOq0KsVoVYa6JUpzOirFYHjUqBAV0S0a9zPGI1KmjVSmhVCmhVCsvrolSIUStdhhTDDRMdIiKiJgiCgC5J0eiSFN2i15vNIirq9Thb3YjqBiMaDEbU602o15vQIP9qPWaQjhnl5xuNJqgUCggCcOx8HaoaDCgqq/Pqvb/aW9rsObEaJWK1lsQnTqtCrMbu91ol4rRqxGmt52htiZXtHBXiNJZzVW1weI6JDhERUQApFAJS47RIjdO2+lqiKOJUZQNKqxtRqzOiTmdEvc4k/75Ob0KsRonUeC1qG43Yc+oCjp6vg85ogs5ghs5ohs5gSaikbT7q9CbU6U04V6NrdXxRaoVDMhSrVSFeq8Ky6wb55fO3BBMdIiKidkIQBGQlxyArOaZV1xFFETqjGTWNlgSp1vrl+nsTaqVz9Ebb7+3OqdOZoDdZ1kFqNJjRaHAdolO4WbcpWJjoEBERRRhBEBClViJKrUTH+NZXWnRGE+p0JockSE6WGo2IjwpdusFEh4iIiFpFq1JCq7JMo29r2l7XEBEREZGfMNEhIiKisMVEh4iIiMIWEx0iIiIKW0x0iIiIKGxFbKKTn5+P3Nxc5OXlhToUIiIiChBu6slNPYmIiNodb39+R2xFh4iIiMIfEx0iIiIKW0x0iIiIKGwx0SEiIqKwxUSHiIiIwhYTHSIiIgpbEb97uTS7vrq6OsSREBERkbekn9vNrZIT8YlOTU0NACArKyvEkRAREZGvampqkJiY6PH5iF8w0Gw2o6SkBPHx8RgxYgQKCgpczsnLy3M53tyx6upqZGVl4eTJk0FZiNBdPIF8fXPnt/R53mvfz23qHF/us7vjobzPTcUZiNcH815H8t9pb87n9w//vD7cv3+IooiamhpkZGRAofDciRPxFR2FQoHMzEwAgFKpdPsH4O64t8cSEhKC8o/HU+yBen1z57f0ed5r389t6hxf7rO746G8z57eP1CvD+a9juS/096cz+8f/nl9JHz/aKqSI2Ezsp158+Z5fdzbY8HS2vf29fXNnd/S53mvfT+3qXN8uc/ujofyPvvj/dvqvY7kv9PenM/vH/55faR//5BE/NBVoHAPreDhvQ4O3ufg4b0OHt7r4AjlfWZFJ0C0Wi0WL14MrVYb6lDCHu91cPA+Bw/vdfDwXgdHKO8zKzpEREQUtljRISIiorDFRIeIiIjCFhMdIiIiCltMdIiIiChsMdEhIiKisMVEJwQ+//xz9OnTB7169cI///nPUIcT1q6++mp06NAB1113XahDCWsnT57EuHHjkJubi0GDBuGDDz4IdUhhqaamBnl5eRgyZAgGDhyIN998M9Qhhb36+nrk5OTgj3/8Y6hDCWsqlQpDhgzBkCFDcNddd/n12pxeHmRGoxG5ubnYuHEjEhISMHToUOzYsQPJycmhDi0sbdy4EbW1tXj77bfx4YcfhjqcsHXmzBmcPXsWQ4YMwblz5zB06FAcPHgQsbGxoQ4trJhMJuh0OsTExKC+vh4DBgxAQUEBUlJSQh1a2Hr00Udx+PBhZGdn47nnngt1OGErNTUVZWVlAbk2KzpB9uOPP6J///7o0qUL4uPjccUVV+Drr78OdVhha/z48YiPjw91GGGvc+fOGDJkCAAgLS0NycnJqKioCG1QYUipVCImJgYA0NjYCJPJBP5fNXAOHz6MAwcO4Iorrgh1KNQKTHR89P3332PGjBnIyMiAIAj45JNPXM557bXX0K1bN0RFRWHYsGHYvHmz/FxJSQm6dOkiP87MzMTp06eDEXq709p7Td7z573+6aefYDabkZWVFeCo2x9/3OcLFy5g8ODByMzMxEMPPYTU1NQgRd+++ONe//GPf8TTTz8dpIjbL3/c6+rqagwbNgxjxozBpk2b/BofEx0f1dXVYfDgwVi+fLnb51etWoX7778fjz76KHbt2oWxY8di2rRpKC4uBgC3//sSBCGgMbdXrb3X5D1/3evy8nLMnj0bb7zxRjDCbnf8cZ+TkpKwZ88eFBUV4b///S/Onj0brPDbldbe608//RS9e/dG7969gxl2u+SPv9fHjx9HYWEh/v73v2P27Nmorq72X4AitRgAcfXq1Q7HRowYId5zzz0Ox/r27Sv++c9/FkVRFLdu3SpeddVV8nMLFiwQ33vvvYDH2t615F5LNm7cKF577bWBDjFstPReNzY2imPHjhXfeeedYITZ7rXm77TknnvuEf/3v/8FKsSw0ZJ7/ec//1nMzMwUc3JyxJSUFDEhIUF8/PHHgxVyu+WPv9eXX365WFBQ4LeYWNHxI71ej8LCQkyZMsXh+JQpU7Bt2zYAwIgRI7B3716cPn0aNTU1+PLLLzF16tRQhNuueXOvyT+8udeiKOL222/HhAkTMGvWrFCE2e55c5/Pnj0r/0+3uroa33//Pfr06RP0WNs7b+71008/jZMnT+L48eN47rnn8Nvf/hZ//etfQxFuu+bNva6srIROpwMAnDp1Cvv27UP37t39FoPKb1cilJWVwWQyIT093eF4eno6SktLAVim0D3//PMYP348zGYzHnroIc6YaAFv7jUATJ06FTt37kRdXR0yMzOxevVq5OXlBTvcds2be71161asWrUKgwYNksfn//Of/2DgwIHBDrfd8uY+nzp1CnfeeSdEUYQoipg/fz4GDRoUinDbNW+/f1DreXOv9+/fj9/97ndQKBQQBAEvv/yyX2ciM9EJAOeeG1EUHY7NnDkTM2fODHZYYam5e80Zbf7T1L0eM2YMzGZzKMIKO03d52HDhmH37t0hiCo8Nff9Q3L77bcHKaLw1dS9HjVqFH755ZeAvTeHrvwoNTUVSqXS5X8E586dc8lmqXV4r4OH9zo4eJ+Dh/c6eNrCvWai40cajQbDhg3D+vXrHY6vX78eo0aNClFU4Yn3Onh4r4OD9zl4eK+Dpy3caw5d+ai2thZHjhyRHxcVFWH37t1ITk5GdnY2Fi5ciFmzZmH48OEYOXIk3njjDRQXF+Oee+4JYdTtE+918PBeBwfvc/DwXgdPm7/Xfpu/FSE2btwoAnD5mjNnjnxOfn6+mJOTI2o0GnHo0KHipk2bQhdwO8Z7HTy818HB+xw8vNfB09bvNfe6IiIiorDFHh0iIiIKW0x0iIiIKGwx0SEiIqKwxUSHiIiIwhYTHSIiIgpbTHSIiIgobDHRISIiorDFRIeIiIjCFhMdIiIiCltMdIio1Y4fPw5BELB79+5QhyI7cOAALrnkEkRFRWHIkCFuzxk3bhzuv//+oMblDUEQ8Mknn4Q6DKKwwESHKAzcfvvtEAQBS5cudTj+ySefQBCEEEUVWosXL0ZsbCwOHjyIDRs2uD3n448/xhNPPCE/7tq1K1566aUgRQg89thjbpOwM2fOYNq0aUGLgyicMdEhChNRUVFYtmwZKisrQx2K3+j1+ha/9ujRoxgzZgxycnKQkpLi9pzk5GTEx8e3+D08aU3cANCpUydotVo/RUMU2ZjoEIWJSZMmoVOnTnj66ac9nuOugvDSSy+ha9eu8uPbb78dV111FZ566imkp6cjKSkJjz/+OIxGI/70pz8hOTkZmZmZ+Pe//+1y/QMHDmDUqFGIiopC//798d133zk8v2/fPlxxxRWIi4tDeno6Zs2ahbKyMvn5cePGYf78+Vi4cCFSU1MxefJkt5/DbDZjyZIlyMzMhFarxZAhQ7B27Vr5eUEQUFhYiCVLlkAQBDz22GNur2M/dDVu3DicOHECDzzwAARBcKiEbdu2DZdeeimio6ORlZWFBQsWoK6uTn6+a9eu+Nvf/obbb78diYmJ+O1vfwsAePjhh9G7d2/ExMSge/fuWLRoEQwGAwBgxYoVePzxx7Fnzx75/VasWCHHbz909csvv2DChAmIjo5GSkoK7r77btTW1rr8mT333HPo3LkzUlJSMG/ePPm9AOC1115Dr169EBUVhfT0dFx33XVu7wlRuGGiQxQmlEolnnrqKbz66qs4depUq6717bffoqSkBN9//z1eeOEFPPbYY/jNb36DDh06YMeOHbjnnntwzz334OTJkw6v+9Of/oQHH3wQu3btwqhRozBz5kyUl5cDsAzHXHbZZRgyZAh++uknrF27FmfPnsUNN9zgcI23334bKpUKW7duxT/+8Q+38b388st4/vnn8dxzz+Hnn3/G1KlTMXPmTBw+fFh+r/79++PBBx/EmTNn8Mc//rHZz/zxxx8jMzMTS5YswZkzZ3DmzBkAliRj6tSpuOaaa/Dzzz9j1apV2LJlC+bPn+/w+meffRYDBgxAYWEhFi1aBACIj4/HihUrsG/fPrz88st488038eKLLwIAbrzxRjz44IPo37+//H433nijS1z19fW4/PLL0aFDBxQUFOCDDz7AN9984/L+GzduxNGjR7Fx40a8/fbbWLFihZw4/fTTT1iwYAGWLFmCgwcPYu3atbj00kubvSdEYUEkonZvzpw54pVXXimKoihecskl4ty5c0VRFMXVq1eL9v/MFy9eLA4ePNjhtS+++KKYk5PjcK2cnBzRZDLJx/r06SOOHTtWfmw0GsXY2Fhx5cqVoiiKYlFRkQhAXLp0qXyOwWAQMzMzxWXLlomiKIqLFi0Sp0yZ4vDeJ0+eFAGIBw8eFEVRFC+77DJxyJAhzX7ejIwM8cknn3Q4lpeXJ/7+97+XHw8ePFhcvHhxk9e57LLLxPvuu09+nJOTI7744osO58yaNUu8++67HY5t3rxZVCgUYkNDg/y6q666qtm4n3nmGXHYsGHyY3d/HqIoigDE1atXi6Ioim+88YbYoUMHsba2Vn7+iy++EBUKhVhaWiqKou3PzGg0yudcf/314o033iiKoih+9NFHYkJCglhdXd1sjEThhhUdojCzbNkyvP3229i3b1+Lr9G/f38oFLZvD+np6Rg4cKD8WKlUIiUlBefOnXN43ciRI+Xfq1QqDB8+HPv37wcAFBYWYuPGjYiLi5O/+vbtC8DSTyMZPnx4k7FVV1ejpKQEo0ePdjg+evRo+b38qbCwECtWrHCIe+rUqTCbzSgqKmoy7g8//BBjxoxBp06dEBcXh0WLFqG4uNin99+/fz8GDx6M2NhY+djo0aNhNptx8OBB+Vj//v2hVCrlx507d5b/fCZPnoycnBx0794ds2bNwnvvvYf6+nqf4iBqr5joEIWZSy+9FFOnTsVf/vIXl+cUCgVEUXQ4Zt/HIVGr1Q6PBUFwe8xsNjcbj9TrYjabMWPGDOzevdvh6/Dhww7DKPY/0L25rkQUxYDMMDObzfjd737nEPOePXtw+PBh9OjRQz7POe4ffvgBN910E6ZNm4bPP/8cu3btwqOPPupzo3JTn8v+eFN/PvHx8di5cydWrlyJzp07469//SsGDx6MCxcu+BQLUXukCnUAROR/S5cuxZAhQ9C7d2+H4x07dkRpaanDD09/rn3zww8/yEmL0WhEYWGh3EsydOhQfPTRR+jatStUqpZ/60lISEBGRga2bNnikCBt27YNI0aMaFX8Go0GJpPJ4djQoUPx66+/omfPnj5da+vWrcjJycGjjz4qHztx4kSz7+csNzcXb7/9Nurq6uRkauvWrVAoFC5/vk1RqVSYNGkSJk2ahMWLFyMpKQnffvstrrnmGh8+FVH7w4oOURgaOHAgbr31Vrz66qsOx8eNG4fz58/jmWeewdGjR5Gfn4+vvvrKb++bn5+P1atX48CBA5g3bx4qKysxd+5cAMC8efNQUVGBm2++GT/++COOHTuGdevWYe7cuc3+sHf2pz/9CcuWLcOqVatw8OBB/PnPf8bu3btx3333tSr+rl274vvvv8fp06fl2WAPP/wwtm/fjnnz5skVqDVr1uAPf/hDk9fq2bMniouL8f777+Po0aN45ZVXsHr1apf3Kyoqwu7du1FWVgadTudynVtvvRVRUVGYM2cO9u7di40bN+IPf/gDZs2ahfT0dK8+1+eff45XXnkFu3fvxokTJ/DOO+/AbDajT58+Xt4ZovaLiQ5RmHriiSdchqn69euH1157Dfn5+Rg8eDB+/PFHr2YkeWvp0qVYtmwZBg8ejM2bN+PTTz9FamoqACAjIwNbt26FyWTC1KlTMWDAANx3331ITEx06AfyxoIFC/Dggw/iwQcfxMCBA7F27VqsWbMGvXr1alX8S5YswfHjx9GjRw907NgRADBo0CBs2rQJhw8fxtixY3HRRRdh0aJF6Ny5c5PXuvLKK/HAAw9g/vz5GDJkCLZt2ybPxpJce+21uPzyyzF+/Hh07NgRK1eudLlOTEwMvv76a1RUVCAvLw/XXXcdJk6ciOXLl3v9uZKSkvDxxx9jwoQJ6NevH/7+979j5cqV6N+/v9fXIGqvBNH5OyERERFRmGBFh4iIiMIWEx0iIiIKW0x0iIiIKGwx0SEiIqKwxUSHiIiIwhYTHSIiIgpbTHSIiIgobDHRISIiorDFRIeIiIjCFhMdIiIiCltMdIiIiChs/T9b8wr/mKclfwAAAABJRU5ErkJggg==",
      "text/plain": [
       "<Figure size 640x480 with 1 Axes>"
      ]
     },
     "metadata": {},
     "output_type": "display_data"
    }
   ],
   "source": [
    "def sgd_for_svm_demo(y, X):\n",
    "    xs = np.unique(np.round(np.logspace(0, 5, 201)))[:-1]\n",
    "    max_iter = int(1e5)\n",
    "    gamma = 1e-4\n",
    "    lambda_ = 5e1\n",
    "\n",
    "    num_examples, num_features = X.shape\n",
    "    w = np.zeros(num_features)\n",
    "    costs = []\n",
    "    start = time.time()\n",
    "\n",
    "    for it in range(max_iter):\n",
    "        # n = sample one data point uniformly at random data from x\n",
    "        n = random.randint(0, num_examples - 1)\n",
    "\n",
    "        grad = calculate_stochastic_gradient(y, X, w, lambda_, n, num_examples)\n",
    "        w -= gamma / (it + 1) * grad\n",
    "\n",
    "        cost = calculate_primal_objective(y, X, w, lambda_)\n",
    "\n",
    "        if it in xs:\n",
    "            costs += [cost]\n",
    "\n",
    "    end = time.time()\n",
    "\n",
    "    print(\n",
    "        \"Final training accuracy = {l} %\".format(\n",
    "            l=np.round(100 * calculate_accuracy(y, X, w), 2)\n",
    "        )\n",
    "    )\n",
    "    print(\"Training time: \" + str(np.round(end - start, 1)) + \" seconds \")\n",
    "\n",
    "    plt.figure()\n",
    "    plt.title(\"SGD on primal objective\")\n",
    "    plt.loglog(xs, costs)\n",
    "    plt.xlabel(\"Number of iterations\")\n",
    "    plt.ylabel(\"Primal objective\")\n",
    "    plt.show()\n",
    "\n",
    "\n",
    "sgd_for_svm_demo(y, X)"
   ]
  },
  {
   "cell_type": "markdown",
   "metadata": {},
   "source": [
    "## Coordinate Descent (Ascent) for SVM"
   ]
  },
  {
   "cell_type": "markdown",
   "metadata": {},
   "source": [
    "Compute the closed-form update for the n-th variable alpha, in the dual optimization problem, given alpha and the current corresponding w"
   ]
  },
  {
   "cell_type": "code",
   "execution_count": 85,
   "metadata": {},
   "outputs": [],
   "source": [
    "def calculate_coordinate_update(y, X, lambda_, alpha, w, n):\n",
    "    \"\"\"compute a coordinate update (closed form) for coordinate n.\n",
    "\n",
    "    Args:\n",
    "        y: the corresponding +1 or -1 labels, shape = (num_examples)\n",
    "        X: the dataset matrix, shape = (num_examples, num_features)\n",
    "        lambda_: positive scalar number\n",
    "        alpha: vector of dual coordinates, shape = (num_examples)\n",
    "        w: vector of primal parameters, shape = (num_features)\n",
    "        n: the coordinate to be updated\n",
    "\n",
    "    Returns:\n",
    "        w: updated vector of primal parameters, shape = (num_features)\n",
    "        alpha: updated vector of dual parameters, shape = (num_examples)\n",
    "\n",
    "    >>> y_test = np.array([1, -1])\n",
    "    >>> x_test = np.array([[1., 2., 3.], [4., 5., 6.]])\n",
    "    >>> w_test = np.array([-0.3, -0.3, -0.3])\n",
    "    >>> alpha_test = np.array([0.1, 0.1])\n",
    "    >>> calculate_coordinate_update(y_test, x_test, 1, alpha_test, w_test, 0)\n",
    "    (array([-0.1,  0.1,  0.3]), array([0.5, 0.1]))\n",
    "    \"\"\"\n",
    "    # calculate the update of coordinate at index=n.\n",
    "    N = y.size\n",
    "    x_n, y_n = X[n], y[n]\n",
    "    old_alpha_n = np.copy(alpha[n])\n",
    "\n",
    "    ####################################    \n",
    "    grad_n = y_n * np.dot(x_n, w) - 1\n",
    "\n",
    "    new_alpha_n = np.clip(old_alpha_n - grad_n / (np.dot(x_n, x_n) / lambda_), 0, 1)\n",
    "\n",
    "    # Compute the change in the dual variable\n",
    "    delta_alpha_n = new_alpha_n - old_alpha_n\n",
    "\n",
    "    # Update the primal variable (w) using the change in alpha\n",
    "    w = w + (delta_alpha_n * y_n * x_n) / lambda_\n",
    "\n",
    "    # Update the dual variable\n",
    "    alpha[n] = new_alpha_n\n",
    "\n",
    "    return w, alpha\n",
    "    ####################################"
   ]
  },
  {
   "cell_type": "code",
   "execution_count": 86,
   "metadata": {},
   "outputs": [
    {
     "name": "stdout",
     "output_type": "stream",
     "text": [
      "❌ The are some issues with your implementation of `calculate_coordinate_update`:\n",
      "**********************************************************************\n",
      "File \"__main__\", line 20, in calculate_coordinate_update\n",
      "Failed example:\n",
      "    calculate_coordinate_update(y_test, x_test, 1, alpha_test, w_test, 0)\n",
      "Expected:\n",
      "    (array([-0.1,  0.1,  0.3]), array([0.5, 0.1]))\n",
      "Got:\n",
      "    (array([-0.1,  0.1,  0.3]), array([0.3, 0.1]))\n",
      "**********************************************************************\n"
     ]
    }
   ],
   "source": [
    "test(calculate_coordinate_update)"
   ]
  },
  {
   "cell_type": "code",
   "execution_count": null,
   "metadata": {},
   "outputs": [],
   "source": [
    "def calculate_dual_objective(y, X, w, alpha, lambda_):\n",
    "    \"\"\"calculate the objective for the dual problem.\n",
    "\n",
    "    Args:\n",
    "        y: the corresponding +1 or -1 labels, shape = (num_examples)\n",
    "        X: the dataset matrix, shape = (num_examples, num_features)\n",
    "        w: vector of primal parameters, shape = (num_features)\n",
    "        alpha: vector of dual coordinates, shape = (num_examples)\n",
    "        lambda_: non negative scalar number\n",
    "\n",
    "    Output:\n",
    "        scalar\n",
    "\n",
    "    >>> y_test = np.array([1, -1])\n",
    "    >>> x_test = np.array([[1., 2., 3.], [4., 5., 6.]])\n",
    "    >>> w_test = np.array([-0.3, -0.3, -0.3])\n",
    "    >>> alpha_test = np.array([0.1, 0.1])\n",
    "    >>> calculate_dual_objective(y_test, x_test, w_test, alpha_test, 1)\n",
    "    -0.035\n",
    "    \"\"\"\n",
    "    N = y.size\n",
    "\n",
    "    ####################################\n",
    "    ### ___ Enter your code here ___ ###\n",
    "    ####################################"
   ]
  },
  {
   "cell_type": "code",
   "execution_count": null,
   "metadata": {},
   "outputs": [],
   "source": [
    "test(calculate_dual_objective)"
   ]
  },
  {
   "cell_type": "code",
   "execution_count": null,
   "metadata": {},
   "outputs": [],
   "source": [
    "# Notice that the gap is going to 0\n",
    "def coordinate_descent_for_svm_demo(y, X):\n",
    "    max_iter = int(1e5)\n",
    "    xs = np.unique(np.round(np.logspace(0, 5, 201)))[:-1]\n",
    "    lambda_ = 5e1\n",
    "    p_costs, d_costs = [], []\n",
    "\n",
    "    num_examples, num_features = X.shape\n",
    "    w = np.zeros(num_features)\n",
    "    alpha = np.zeros(num_examples)\n",
    "    start = time.time()\n",
    "\n",
    "    for it in range(max_iter):\n",
    "        # n = sample one data point uniformly at random data from x\n",
    "        n = random.randint(0, num_examples - 1)\n",
    "\n",
    "        w, alpha = calculate_coordinate_update(y, X, lambda_, alpha, w, n)\n",
    "\n",
    "        if it in xs:\n",
    "            # primal objective\n",
    "            primal_value = calculate_primal_objective(y, X, w, lambda_)\n",
    "            # dual objective\n",
    "            dual_value = calculate_dual_objective(y, X, w, alpha, lambda_)\n",
    "            # store values\n",
    "            p_costs += [primal_value]\n",
    "            d_costs += [dual_value]\n",
    "\n",
    "    end = time.time()\n",
    "    plt.figure()\n",
    "    plt.title(\"Coordinate ascent on dual objective\")\n",
    "    plt.loglog(xs, p_costs, label=\"Primal cost\")\n",
    "    plt.loglog(xs, d_costs, label=\"Dual cost\")\n",
    "    plt.xlabel(\"Number of iterations\")\n",
    "    plt.legend()\n",
    "    plt.show()\n",
    "\n",
    "    print(\n",
    "        \"Final training accuracy = {l} %\".format(\n",
    "            l=np.round(100 * calculate_accuracy(y, X, w), 2)\n",
    "        )\n",
    "    )\n",
    "    print(\"Training time: \" + str(np.round(end - start, 1)) + \" seconds \")\n",
    "\n",
    "\n",
    "coordinate_descent_for_svm_demo(y, X)"
   ]
  },
  {
   "cell_type": "markdown",
   "metadata": {},
   "source": [
    "#### The gap between the primal cost and the dual cost should go to 0 !"
   ]
  }
 ],
 "metadata": {
  "kernelspec": {
   "display_name": "base",
   "language": "python",
   "name": "python3"
  },
  "language_info": {
   "codemirror_mode": {
    "name": "ipython",
    "version": 3
   },
   "file_extension": ".py",
   "mimetype": "text/x-python",
   "name": "python",
   "nbconvert_exporter": "python",
   "pygments_lexer": "ipython3",
<<<<<<< HEAD
   "version": "3.12.4"
=======
   "version": "3.12.2"
>>>>>>> upstream/main
  }
 },
 "nbformat": 4,
 "nbformat_minor": 4
}
